{
 "cells": [
  {
   "cell_type": "markdown",
   "metadata": {},
   "source": [
    "Installing necessary libraries"
   ]
  },
  {
   "cell_type": "code",
   "execution_count": 1,
   "metadata": {},
   "outputs": [
    {
     "name": "stdout",
     "output_type": "stream",
     "text": [
      "Requirement already satisfied: langchain_groq in c:\\users\\sudik\\appdata\\local\\programs\\python\\python313\\lib\\site-packages (0.2.4)\n",
      "Requirement already satisfied: groq<1,>=0.4.1 in c:\\users\\sudik\\appdata\\local\\programs\\python\\python313\\lib\\site-packages (from langchain_groq) (0.16.0)\n",
      "Requirement already satisfied: langchain-core<0.4.0,>=0.3.33 in c:\\users\\sudik\\appdata\\local\\programs\\python\\python313\\lib\\site-packages (from langchain_groq) (0.3.35)\n",
      "Requirement already satisfied: anyio<5,>=3.5.0 in c:\\users\\sudik\\appdata\\local\\programs\\python\\python313\\lib\\site-packages (from groq<1,>=0.4.1->langchain_groq) (4.8.0)\n",
      "Requirement already satisfied: distro<2,>=1.7.0 in c:\\users\\sudik\\appdata\\local\\programs\\python\\python313\\lib\\site-packages (from groq<1,>=0.4.1->langchain_groq) (1.9.0)\n",
      "Requirement already satisfied: httpx<1,>=0.23.0 in c:\\users\\sudik\\appdata\\local\\programs\\python\\python313\\lib\\site-packages (from groq<1,>=0.4.1->langchain_groq) (0.28.1)\n",
      "Requirement already satisfied: pydantic<3,>=1.9.0 in c:\\users\\sudik\\appdata\\local\\programs\\python\\python313\\lib\\site-packages (from groq<1,>=0.4.1->langchain_groq) (2.10.6)\n",
      "Requirement already satisfied: sniffio in c:\\users\\sudik\\appdata\\local\\programs\\python\\python313\\lib\\site-packages (from groq<1,>=0.4.1->langchain_groq) (1.3.1)\n",
      "Requirement already satisfied: typing-extensions<5,>=4.10 in c:\\users\\sudik\\appdata\\local\\programs\\python\\python313\\lib\\site-packages (from groq<1,>=0.4.1->langchain_groq) (4.12.2)\n",
      "Requirement already satisfied: langsmith<0.4,>=0.1.125 in c:\\users\\sudik\\appdata\\local\\programs\\python\\python313\\lib\\site-packages (from langchain-core<0.4.0,>=0.3.33->langchain_groq) (0.3.4)\n",
      "Requirement already satisfied: tenacity!=8.4.0,<10.0.0,>=8.1.0 in c:\\users\\sudik\\appdata\\local\\programs\\python\\python313\\lib\\site-packages (from langchain-core<0.4.0,>=0.3.33->langchain_groq) (8.5.0)\n",
      "Requirement already satisfied: jsonpatch<2.0,>=1.33 in c:\\users\\sudik\\appdata\\local\\programs\\python\\python313\\lib\\site-packages (from langchain-core<0.4.0,>=0.3.33->langchain_groq) (1.33)\n",
      "Requirement already satisfied: PyYAML>=5.3 in c:\\users\\sudik\\appdata\\local\\programs\\python\\python313\\lib\\site-packages (from langchain-core<0.4.0,>=0.3.33->langchain_groq) (6.0.2)\n",
      "Requirement already satisfied: packaging<25,>=23.2 in c:\\users\\sudik\\appdata\\local\\programs\\python\\python313\\lib\\site-packages (from langchain-core<0.4.0,>=0.3.33->langchain_groq) (23.2)\n",
      "Requirement already satisfied: idna>=2.8 in c:\\users\\sudik\\appdata\\local\\programs\\python\\python313\\lib\\site-packages (from anyio<5,>=3.5.0->groq<1,>=0.4.1->langchain_groq) (3.10)\n",
      "Requirement already satisfied: certifi in c:\\users\\sudik\\appdata\\local\\programs\\python\\python313\\lib\\site-packages (from httpx<1,>=0.23.0->groq<1,>=0.4.1->langchain_groq) (2025.1.31)\n",
      "Requirement already satisfied: httpcore==1.* in c:\\users\\sudik\\appdata\\local\\programs\\python\\python313\\lib\\site-packages (from httpx<1,>=0.23.0->groq<1,>=0.4.1->langchain_groq) (1.0.7)\n",
      "Requirement already satisfied: h11<0.15,>=0.13 in c:\\users\\sudik\\appdata\\local\\programs\\python\\python313\\lib\\site-packages (from httpcore==1.*->httpx<1,>=0.23.0->groq<1,>=0.4.1->langchain_groq) (0.14.0)\n",
      "Requirement already satisfied: jsonpointer>=1.9 in c:\\users\\sudik\\appdata\\local\\programs\\python\\python313\\lib\\site-packages (from jsonpatch<2.0,>=1.33->langchain-core<0.4.0,>=0.3.33->langchain_groq) (3.0.0)\n",
      "Requirement already satisfied: orjson<4.0.0,>=3.9.14 in c:\\users\\sudik\\appdata\\local\\programs\\python\\python313\\lib\\site-packages (from langsmith<0.4,>=0.1.125->langchain-core<0.4.0,>=0.3.33->langchain_groq) (3.10.15)\n",
      "Requirement already satisfied: requests<3,>=2 in c:\\users\\sudik\\appdata\\local\\programs\\python\\python313\\lib\\site-packages (from langsmith<0.4,>=0.1.125->langchain-core<0.4.0,>=0.3.33->langchain_groq) (2.32.3)\n",
      "Requirement already satisfied: requests-toolbelt<2.0.0,>=1.0.0 in c:\\users\\sudik\\appdata\\local\\programs\\python\\python313\\lib\\site-packages (from langsmith<0.4,>=0.1.125->langchain-core<0.4.0,>=0.3.33->langchain_groq) (1.0.0)\n",
      "Requirement already satisfied: zstandard<0.24.0,>=0.23.0 in c:\\users\\sudik\\appdata\\local\\programs\\python\\python313\\lib\\site-packages (from langsmith<0.4,>=0.1.125->langchain-core<0.4.0,>=0.3.33->langchain_groq) (0.23.0)\n",
      "Requirement already satisfied: annotated-types>=0.6.0 in c:\\users\\sudik\\appdata\\local\\programs\\python\\python313\\lib\\site-packages (from pydantic<3,>=1.9.0->groq<1,>=0.4.1->langchain_groq) (0.7.0)\n",
      "Requirement already satisfied: pydantic-core==2.27.2 in c:\\users\\sudik\\appdata\\local\\programs\\python\\python313\\lib\\site-packages (from pydantic<3,>=1.9.0->groq<1,>=0.4.1->langchain_groq) (2.27.2)\n",
      "Requirement already satisfied: charset-normalizer<4,>=2 in c:\\users\\sudik\\appdata\\local\\programs\\python\\python313\\lib\\site-packages (from requests<3,>=2->langsmith<0.4,>=0.1.125->langchain-core<0.4.0,>=0.3.33->langchain_groq) (3.4.1)\n",
      "Requirement already satisfied: urllib3<3,>=1.21.1 in c:\\users\\sudik\\appdata\\local\\programs\\python\\python313\\lib\\site-packages (from requests<3,>=2->langsmith<0.4,>=0.1.125->langchain-core<0.4.0,>=0.3.33->langchain_groq) (2.3.0)\n"
     ]
    },
    {
     "name": "stderr",
     "output_type": "stream",
     "text": [
      "\n",
      "[notice] A new release of pip is available: 25.0 -> 25.0.1\n",
      "[notice] To update, run: python.exe -m pip install --upgrade pip\n"
     ]
    },
    {
     "name": "stdout",
     "output_type": "stream",
     "text": [
      "Requirement already satisfied: pypdf in c:\\users\\sudik\\appdata\\local\\programs\\python\\python313\\lib\\site-packages (5.2.0)\n"
     ]
    },
    {
     "name": "stderr",
     "output_type": "stream",
     "text": [
      "\n",
      "[notice] A new release of pip is available: 25.0 -> 25.0.1\n",
      "[notice] To update, run: python.exe -m pip install --upgrade pip\n"
     ]
    },
    {
     "name": "stdout",
     "output_type": "stream",
     "text": [
      "Requirement already satisfied: chromadb in c:\\users\\sudik\\appdata\\local\\programs\\python\\python313\\lib\\site-packages (0.6.3)\n",
      "Requirement already satisfied: build>=1.0.3 in c:\\users\\sudik\\appdata\\local\\programs\\python\\python313\\lib\\site-packages (from chromadb) (1.2.2.post1)\n",
      "Requirement already satisfied: pydantic>=1.9 in c:\\users\\sudik\\appdata\\local\\programs\\python\\python313\\lib\\site-packages (from chromadb) (2.10.6)\n",
      "Requirement already satisfied: chroma-hnswlib==0.7.6 in c:\\users\\sudik\\appdata\\local\\programs\\python\\python313\\lib\\site-packages (from chromadb) (0.7.6)\n",
      "Requirement already satisfied: fastapi>=0.95.2 in c:\\users\\sudik\\appdata\\local\\programs\\python\\python313\\lib\\site-packages (from chromadb) (0.115.8)\n",
      "Requirement already satisfied: uvicorn>=0.18.3 in c:\\users\\sudik\\appdata\\local\\programs\\python\\python313\\lib\\site-packages (from uvicorn[standard]>=0.18.3->chromadb) (0.34.0)\n",
      "Requirement already satisfied: numpy>=1.22.5 in c:\\users\\sudik\\appdata\\local\\programs\\python\\python313\\lib\\site-packages (from chromadb) (1.26.4)\n",
      "Requirement already satisfied: posthog>=2.4.0 in c:\\users\\sudik\\appdata\\local\\programs\\python\\python313\\lib\\site-packages (from chromadb) (3.11.0)\n",
      "Requirement already satisfied: typing_extensions>=4.5.0 in c:\\users\\sudik\\appdata\\local\\programs\\python\\python313\\lib\\site-packages (from chromadb) (4.12.2)\n",
      "Requirement already satisfied: onnxruntime>=1.14.1 in c:\\users\\sudik\\appdata\\local\\programs\\python\\python313\\lib\\site-packages (from chromadb) (1.20.1)\n",
      "Requirement already satisfied: opentelemetry-api>=1.2.0 in c:\\users\\sudik\\appdata\\local\\programs\\python\\python313\\lib\\site-packages (from chromadb) (1.30.0)\n",
      "Requirement already satisfied: opentelemetry-exporter-otlp-proto-grpc>=1.2.0 in c:\\users\\sudik\\appdata\\local\\programs\\python\\python313\\lib\\site-packages (from chromadb) (1.30.0)\n",
      "Requirement already satisfied: opentelemetry-instrumentation-fastapi>=0.41b0 in c:\\users\\sudik\\appdata\\local\\programs\\python\\python313\\lib\\site-packages (from chromadb) (0.51b0)\n",
      "Requirement already satisfied: opentelemetry-sdk>=1.2.0 in c:\\users\\sudik\\appdata\\local\\programs\\python\\python313\\lib\\site-packages (from chromadb) (1.30.0)\n",
      "Requirement already satisfied: tokenizers>=0.13.2 in c:\\users\\sudik\\appdata\\local\\programs\\python\\python313\\lib\\site-packages (from chromadb) (0.21.0)\n",
      "Requirement already satisfied: pypika>=0.48.9 in c:\\users\\sudik\\appdata\\local\\programs\\python\\python313\\lib\\site-packages (from chromadb) (0.48.9)\n",
      "Requirement already satisfied: tqdm>=4.65.0 in c:\\users\\sudik\\appdata\\local\\programs\\python\\python313\\lib\\site-packages (from chromadb) (4.67.1)\n",
      "Requirement already satisfied: overrides>=7.3.1 in c:\\users\\sudik\\appdata\\local\\programs\\python\\python313\\lib\\site-packages (from chromadb) (7.7.0)\n",
      "Requirement already satisfied: importlib-resources in c:\\users\\sudik\\appdata\\local\\programs\\python\\python313\\lib\\site-packages (from chromadb) (6.5.2)\n",
      "Requirement already satisfied: grpcio>=1.58.0 in c:\\users\\sudik\\appdata\\local\\programs\\python\\python313\\lib\\site-packages (from chromadb) (1.70.0)\n",
      "Requirement already satisfied: bcrypt>=4.0.1 in c:\\users\\sudik\\appdata\\local\\programs\\python\\python313\\lib\\site-packages (from chromadb) (4.2.1)\n",
      "Requirement already satisfied: typer>=0.9.0 in c:\\users\\sudik\\appdata\\local\\programs\\python\\python313\\lib\\site-packages (from chromadb) (0.15.1)\n",
      "Requirement already satisfied: kubernetes>=28.1.0 in c:\\users\\sudik\\appdata\\local\\programs\\python\\python313\\lib\\site-packages (from chromadb) (32.0.0)\n",
      "Requirement already satisfied: tenacity>=8.2.3 in c:\\users\\sudik\\appdata\\local\\programs\\python\\python313\\lib\\site-packages (from chromadb) (8.5.0)\n",
      "Requirement already satisfied: PyYAML>=6.0.0 in c:\\users\\sudik\\appdata\\local\\programs\\python\\python313\\lib\\site-packages (from chromadb) (6.0.2)\n",
      "Requirement already satisfied: mmh3>=4.0.1 in c:\\users\\sudik\\appdata\\local\\programs\\python\\python313\\lib\\site-packages (from chromadb) (5.1.0)\n",
      "Requirement already satisfied: orjson>=3.9.12 in c:\\users\\sudik\\appdata\\local\\programs\\python\\python313\\lib\\site-packages (from chromadb) (3.10.15)\n",
      "Requirement already satisfied: httpx>=0.27.0 in c:\\users\\sudik\\appdata\\local\\programs\\python\\python313\\lib\\site-packages (from chromadb) (0.28.1)\n",
      "Requirement already satisfied: rich>=10.11.0 in c:\\users\\sudik\\appdata\\local\\programs\\python\\python313\\lib\\site-packages (from chromadb) (13.9.4)\n",
      "Requirement already satisfied: packaging>=19.1 in c:\\users\\sudik\\appdata\\local\\programs\\python\\python313\\lib\\site-packages (from build>=1.0.3->chromadb) (23.2)\n",
      "Requirement already satisfied: pyproject_hooks in c:\\users\\sudik\\appdata\\local\\programs\\python\\python313\\lib\\site-packages (from build>=1.0.3->chromadb) (1.2.0)\n",
      "Requirement already satisfied: colorama in c:\\users\\sudik\\appdata\\roaming\\python\\python313\\site-packages (from build>=1.0.3->chromadb) (0.4.6)\n",
      "Requirement already satisfied: starlette<0.46.0,>=0.40.0 in c:\\users\\sudik\\appdata\\local\\programs\\python\\python313\\lib\\site-packages (from fastapi>=0.95.2->chromadb) (0.45.3)\n",
      "Requirement already satisfied: anyio in c:\\users\\sudik\\appdata\\local\\programs\\python\\python313\\lib\\site-packages (from httpx>=0.27.0->chromadb) (4.8.0)\n",
      "Requirement already satisfied: certifi in c:\\users\\sudik\\appdata\\local\\programs\\python\\python313\\lib\\site-packages (from httpx>=0.27.0->chromadb) (2025.1.31)\n",
      "Requirement already satisfied: httpcore==1.* in c:\\users\\sudik\\appdata\\local\\programs\\python\\python313\\lib\\site-packages (from httpx>=0.27.0->chromadb) (1.0.7)\n",
      "Requirement already satisfied: idna in c:\\users\\sudik\\appdata\\local\\programs\\python\\python313\\lib\\site-packages (from httpx>=0.27.0->chromadb) (3.10)\n",
      "Requirement already satisfied: h11<0.15,>=0.13 in c:\\users\\sudik\\appdata\\local\\programs\\python\\python313\\lib\\site-packages (from httpcore==1.*->httpx>=0.27.0->chromadb) (0.14.0)\n",
      "Requirement already satisfied: six>=1.9.0 in c:\\users\\sudik\\appdata\\local\\programs\\python\\python313\\lib\\site-packages (from kubernetes>=28.1.0->chromadb) (1.17.0)\n",
      "Requirement already satisfied: python-dateutil>=2.5.3 in c:\\users\\sudik\\appdata\\local\\programs\\python\\python313\\lib\\site-packages (from kubernetes>=28.1.0->chromadb) (2.9.0.post0)\n",
      "Requirement already satisfied: google-auth>=1.0.1 in c:\\users\\sudik\\appdata\\local\\programs\\python\\python313\\lib\\site-packages (from kubernetes>=28.1.0->chromadb) (2.38.0)\n",
      "Requirement already satisfied: websocket-client!=0.40.0,!=0.41.*,!=0.42.*,>=0.32.0 in c:\\users\\sudik\\appdata\\local\\programs\\python\\python313\\lib\\site-packages (from kubernetes>=28.1.0->chromadb) (1.8.0)\n",
      "Requirement already satisfied: requests in c:\\users\\sudik\\appdata\\local\\programs\\python\\python313\\lib\\site-packages (from kubernetes>=28.1.0->chromadb) (2.32.3)\n",
      "Requirement already satisfied: requests-oauthlib in c:\\users\\sudik\\appdata\\local\\programs\\python\\python313\\lib\\site-packages (from kubernetes>=28.1.0->chromadb) (2.0.0)\n",
      "Requirement already satisfied: oauthlib>=3.2.2 in c:\\users\\sudik\\appdata\\local\\programs\\python\\python313\\lib\\site-packages (from kubernetes>=28.1.0->chromadb) (3.2.2)\n",
      "Requirement already satisfied: urllib3>=1.24.2 in c:\\users\\sudik\\appdata\\local\\programs\\python\\python313\\lib\\site-packages (from kubernetes>=28.1.0->chromadb) (2.3.0)\n",
      "Requirement already satisfied: durationpy>=0.7 in c:\\users\\sudik\\appdata\\local\\programs\\python\\python313\\lib\\site-packages (from kubernetes>=28.1.0->chromadb) (0.9)\n",
      "Requirement already satisfied: coloredlogs in c:\\users\\sudik\\appdata\\local\\programs\\python\\python313\\lib\\site-packages (from onnxruntime>=1.14.1->chromadb) (15.0.1)\n",
      "Requirement already satisfied: flatbuffers in c:\\users\\sudik\\appdata\\local\\programs\\python\\python313\\lib\\site-packages (from onnxruntime>=1.14.1->chromadb) (25.1.24)\n",
      "Requirement already satisfied: protobuf in c:\\users\\sudik\\appdata\\local\\programs\\python\\python313\\lib\\site-packages (from onnxruntime>=1.14.1->chromadb) (5.29.3)\n",
      "Requirement already satisfied: sympy in c:\\users\\sudik\\appdata\\local\\programs\\python\\python313\\lib\\site-packages (from onnxruntime>=1.14.1->chromadb) (1.13.1)\n",
      "Requirement already satisfied: deprecated>=1.2.6 in c:\\users\\sudik\\appdata\\local\\programs\\python\\python313\\lib\\site-packages (from opentelemetry-api>=1.2.0->chromadb) (1.2.18)\n",
      "Requirement already satisfied: importlib-metadata<=8.5.0,>=6.0 in c:\\users\\sudik\\appdata\\local\\programs\\python\\python313\\lib\\site-packages (from opentelemetry-api>=1.2.0->chromadb) (8.5.0)\n",
      "Requirement already satisfied: googleapis-common-protos~=1.52 in c:\\users\\sudik\\appdata\\local\\programs\\python\\python313\\lib\\site-packages (from opentelemetry-exporter-otlp-proto-grpc>=1.2.0->chromadb) (1.66.0)\n",
      "Requirement already satisfied: opentelemetry-exporter-otlp-proto-common==1.30.0 in c:\\users\\sudik\\appdata\\local\\programs\\python\\python313\\lib\\site-packages (from opentelemetry-exporter-otlp-proto-grpc>=1.2.0->chromadb) (1.30.0)\n",
      "Requirement already satisfied: opentelemetry-proto==1.30.0 in c:\\users\\sudik\\appdata\\local\\programs\\python\\python313\\lib\\site-packages (from opentelemetry-exporter-otlp-proto-grpc>=1.2.0->chromadb) (1.30.0)\n",
      "Requirement already satisfied: opentelemetry-instrumentation-asgi==0.51b0 in c:\\users\\sudik\\appdata\\local\\programs\\python\\python313\\lib\\site-packages (from opentelemetry-instrumentation-fastapi>=0.41b0->chromadb) (0.51b0)\n",
      "Requirement already satisfied: opentelemetry-instrumentation==0.51b0 in c:\\users\\sudik\\appdata\\local\\programs\\python\\python313\\lib\\site-packages (from opentelemetry-instrumentation-fastapi>=0.41b0->chromadb) (0.51b0)\n",
      "Requirement already satisfied: opentelemetry-semantic-conventions==0.51b0 in c:\\users\\sudik\\appdata\\local\\programs\\python\\python313\\lib\\site-packages (from opentelemetry-instrumentation-fastapi>=0.41b0->chromadb) (0.51b0)\n",
      "Requirement already satisfied: opentelemetry-util-http==0.51b0 in c:\\users\\sudik\\appdata\\local\\programs\\python\\python313\\lib\\site-packages (from opentelemetry-instrumentation-fastapi>=0.41b0->chromadb) (0.51b0)\n",
      "Requirement already satisfied: wrapt<2.0.0,>=1.0.0 in c:\\users\\sudik\\appdata\\local\\programs\\python\\python313\\lib\\site-packages (from opentelemetry-instrumentation==0.51b0->opentelemetry-instrumentation-fastapi>=0.41b0->chromadb) (1.17.2)\n",
      "Requirement already satisfied: asgiref~=3.0 in c:\\users\\sudik\\appdata\\local\\programs\\python\\python313\\lib\\site-packages (from opentelemetry-instrumentation-asgi==0.51b0->opentelemetry-instrumentation-fastapi>=0.41b0->chromadb) (3.8.1)\n",
      "Requirement already satisfied: monotonic>=1.5 in c:\\users\\sudik\\appdata\\local\\programs\\python\\python313\\lib\\site-packages (from posthog>=2.4.0->chromadb) (1.6)\n",
      "Requirement already satisfied: backoff>=1.10.0 in c:\\users\\sudik\\appdata\\local\\programs\\python\\python313\\lib\\site-packages (from posthog>=2.4.0->chromadb) (2.2.1)\n",
      "Requirement already satisfied: annotated-types>=0.6.0 in c:\\users\\sudik\\appdata\\local\\programs\\python\\python313\\lib\\site-packages (from pydantic>=1.9->chromadb) (0.7.0)\n",
      "Requirement already satisfied: pydantic-core==2.27.2 in c:\\users\\sudik\\appdata\\local\\programs\\python\\python313\\lib\\site-packages (from pydantic>=1.9->chromadb) (2.27.2)\n",
      "Requirement already satisfied: markdown-it-py>=2.2.0 in c:\\users\\sudik\\appdata\\local\\programs\\python\\python313\\lib\\site-packages (from rich>=10.11.0->chromadb) (3.0.0)\n",
      "Requirement already satisfied: pygments<3.0.0,>=2.13.0 in c:\\users\\sudik\\appdata\\roaming\\python\\python313\\site-packages (from rich>=10.11.0->chromadb) (2.19.1)\n",
      "Requirement already satisfied: huggingface-hub<1.0,>=0.16.4 in c:\\users\\sudik\\appdata\\local\\programs\\python\\python313\\lib\\site-packages (from tokenizers>=0.13.2->chromadb) (0.28.1)\n",
      "Requirement already satisfied: click>=8.0.0 in c:\\users\\sudik\\appdata\\local\\programs\\python\\python313\\lib\\site-packages (from typer>=0.9.0->chromadb) (8.1.8)\n",
      "Requirement already satisfied: shellingham>=1.3.0 in c:\\users\\sudik\\appdata\\local\\programs\\python\\python313\\lib\\site-packages (from typer>=0.9.0->chromadb) (1.5.4)\n",
      "Requirement already satisfied: httptools>=0.6.3 in c:\\users\\sudik\\appdata\\local\\programs\\python\\python313\\lib\\site-packages (from uvicorn[standard]>=0.18.3->chromadb) (0.6.4)\n",
      "Requirement already satisfied: python-dotenv>=0.13 in c:\\users\\sudik\\appdata\\local\\programs\\python\\python313\\lib\\site-packages (from uvicorn[standard]>=0.18.3->chromadb) (1.0.1)\n",
      "Requirement already satisfied: watchfiles>=0.13 in c:\\users\\sudik\\appdata\\local\\programs\\python\\python313\\lib\\site-packages (from uvicorn[standard]>=0.18.3->chromadb) (1.0.4)\n",
      "Requirement already satisfied: websockets>=10.4 in c:\\users\\sudik\\appdata\\local\\programs\\python\\python313\\lib\\site-packages (from uvicorn[standard]>=0.18.3->chromadb) (14.2)\n",
      "Requirement already satisfied: cachetools<6.0,>=2.0.0 in c:\\users\\sudik\\appdata\\local\\programs\\python\\python313\\lib\\site-packages (from google-auth>=1.0.1->kubernetes>=28.1.0->chromadb) (5.5.1)\n",
      "Requirement already satisfied: pyasn1-modules>=0.2.1 in c:\\users\\sudik\\appdata\\local\\programs\\python\\python313\\lib\\site-packages (from google-auth>=1.0.1->kubernetes>=28.1.0->chromadb) (0.4.1)\n",
      "Requirement already satisfied: rsa<5,>=3.1.4 in c:\\users\\sudik\\appdata\\local\\programs\\python\\python313\\lib\\site-packages (from google-auth>=1.0.1->kubernetes>=28.1.0->chromadb) (4.9)\n",
      "Requirement already satisfied: filelock in c:\\users\\sudik\\appdata\\local\\programs\\python\\python313\\lib\\site-packages (from huggingface-hub<1.0,>=0.16.4->tokenizers>=0.13.2->chromadb) (3.17.0)\n",
      "Requirement already satisfied: fsspec>=2023.5.0 in c:\\users\\sudik\\appdata\\local\\programs\\python\\python313\\lib\\site-packages (from huggingface-hub<1.0,>=0.16.4->tokenizers>=0.13.2->chromadb) (2025.2.0)\n",
      "Requirement already satisfied: zipp>=3.20 in c:\\users\\sudik\\appdata\\local\\programs\\python\\python313\\lib\\site-packages (from importlib-metadata<=8.5.0,>=6.0->opentelemetry-api>=1.2.0->chromadb) (3.21.0)\n",
      "Requirement already satisfied: mdurl~=0.1 in c:\\users\\sudik\\appdata\\local\\programs\\python\\python313\\lib\\site-packages (from markdown-it-py>=2.2.0->rich>=10.11.0->chromadb) (0.1.2)\n",
      "Requirement already satisfied: charset-normalizer<4,>=2 in c:\\users\\sudik\\appdata\\local\\programs\\python\\python313\\lib\\site-packages (from requests->kubernetes>=28.1.0->chromadb) (3.4.1)\n",
      "Requirement already satisfied: sniffio>=1.1 in c:\\users\\sudik\\appdata\\local\\programs\\python\\python313\\lib\\site-packages (from anyio->httpx>=0.27.0->chromadb) (1.3.1)\n",
      "Requirement already satisfied: humanfriendly>=9.1 in c:\\users\\sudik\\appdata\\local\\programs\\python\\python313\\lib\\site-packages (from coloredlogs->onnxruntime>=1.14.1->chromadb) (10.0)\n",
      "Requirement already satisfied: mpmath<1.4,>=1.1.0 in c:\\users\\sudik\\appdata\\local\\programs\\python\\python313\\lib\\site-packages (from sympy->onnxruntime>=1.14.1->chromadb) (1.3.0)\n",
      "Requirement already satisfied: pyreadline3 in c:\\users\\sudik\\appdata\\local\\programs\\python\\python313\\lib\\site-packages (from humanfriendly>=9.1->coloredlogs->onnxruntime>=1.14.1->chromadb) (3.5.4)\n",
      "Requirement already satisfied: pyasn1<0.7.0,>=0.4.6 in c:\\users\\sudik\\appdata\\local\\programs\\python\\python313\\lib\\site-packages (from pyasn1-modules>=0.2.1->google-auth>=1.0.1->kubernetes>=28.1.0->chromadb) (0.6.1)\n"
     ]
    },
    {
     "name": "stderr",
     "output_type": "stream",
     "text": [
      "\n",
      "[notice] A new release of pip is available: 25.0 -> 25.0.1\n",
      "[notice] To update, run: python.exe -m pip install --upgrade pip\n"
     ]
    },
    {
     "name": "stdout",
     "output_type": "stream",
     "text": [
      "Requirement already satisfied: sentence_transformers in c:\\users\\sudik\\appdata\\local\\programs\\python\\python313\\lib\\site-packages (3.4.1)\n",
      "Requirement already satisfied: transformers<5.0.0,>=4.41.0 in c:\\users\\sudik\\appdata\\local\\programs\\python\\python313\\lib\\site-packages (from sentence_transformers) (4.48.3)\n",
      "Requirement already satisfied: tqdm in c:\\users\\sudik\\appdata\\local\\programs\\python\\python313\\lib\\site-packages (from sentence_transformers) (4.67.1)\n",
      "Requirement already satisfied: torch>=1.11.0 in c:\\users\\sudik\\appdata\\local\\programs\\python\\python313\\lib\\site-packages (from sentence_transformers) (2.6.0)\n",
      "Requirement already satisfied: scikit-learn in c:\\users\\sudik\\appdata\\local\\programs\\python\\python313\\lib\\site-packages (from sentence_transformers) (1.6.1)\n",
      "Requirement already satisfied: scipy in c:\\users\\sudik\\appdata\\local\\programs\\python\\python313\\lib\\site-packages (from sentence_transformers) (1.15.1)\n",
      "Requirement already satisfied: huggingface-hub>=0.20.0 in c:\\users\\sudik\\appdata\\local\\programs\\python\\python313\\lib\\site-packages (from sentence_transformers) (0.28.1)\n",
      "Requirement already satisfied: Pillow in c:\\users\\sudik\\appdata\\local\\programs\\python\\python313\\lib\\site-packages (from sentence_transformers) (10.4.0)\n",
      "Requirement already satisfied: filelock in c:\\users\\sudik\\appdata\\local\\programs\\python\\python313\\lib\\site-packages (from huggingface-hub>=0.20.0->sentence_transformers) (3.17.0)\n",
      "Requirement already satisfied: fsspec>=2023.5.0 in c:\\users\\sudik\\appdata\\local\\programs\\python\\python313\\lib\\site-packages (from huggingface-hub>=0.20.0->sentence_transformers) (2025.2.0)\n",
      "Requirement already satisfied: packaging>=20.9 in c:\\users\\sudik\\appdata\\local\\programs\\python\\python313\\lib\\site-packages (from huggingface-hub>=0.20.0->sentence_transformers) (23.2)\n",
      "Requirement already satisfied: pyyaml>=5.1 in c:\\users\\sudik\\appdata\\local\\programs\\python\\python313\\lib\\site-packages (from huggingface-hub>=0.20.0->sentence_transformers) (6.0.2)\n",
      "Requirement already satisfied: requests in c:\\users\\sudik\\appdata\\local\\programs\\python\\python313\\lib\\site-packages (from huggingface-hub>=0.20.0->sentence_transformers) (2.32.3)\n",
      "Requirement already satisfied: typing-extensions>=3.7.4.3 in c:\\users\\sudik\\appdata\\local\\programs\\python\\python313\\lib\\site-packages (from huggingface-hub>=0.20.0->sentence_transformers) (4.12.2)\n",
      "Requirement already satisfied: networkx in c:\\users\\sudik\\appdata\\local\\programs\\python\\python313\\lib\\site-packages (from torch>=1.11.0->sentence_transformers) (3.4.2)\n",
      "Requirement already satisfied: jinja2 in c:\\users\\sudik\\appdata\\local\\programs\\python\\python313\\lib\\site-packages (from torch>=1.11.0->sentence_transformers) (3.1.5)\n",
      "Requirement already satisfied: setuptools in c:\\users\\sudik\\appdata\\local\\programs\\python\\python313\\lib\\site-packages (from torch>=1.11.0->sentence_transformers) (75.8.0)\n",
      "Requirement already satisfied: sympy==1.13.1 in c:\\users\\sudik\\appdata\\local\\programs\\python\\python313\\lib\\site-packages (from torch>=1.11.0->sentence_transformers) (1.13.1)\n",
      "Requirement already satisfied: mpmath<1.4,>=1.1.0 in c:\\users\\sudik\\appdata\\local\\programs\\python\\python313\\lib\\site-packages (from sympy==1.13.1->torch>=1.11.0->sentence_transformers) (1.3.0)\n",
      "Requirement already satisfied: colorama in c:\\users\\sudik\\appdata\\roaming\\python\\python313\\site-packages (from tqdm->sentence_transformers) (0.4.6)\n",
      "Requirement already satisfied: numpy>=1.17 in c:\\users\\sudik\\appdata\\local\\programs\\python\\python313\\lib\\site-packages (from transformers<5.0.0,>=4.41.0->sentence_transformers) (1.26.4)\n",
      "Requirement already satisfied: regex!=2019.12.17 in c:\\users\\sudik\\appdata\\local\\programs\\python\\python313\\lib\\site-packages (from transformers<5.0.0,>=4.41.0->sentence_transformers) (2024.11.6)\n",
      "Requirement already satisfied: tokenizers<0.22,>=0.21 in c:\\users\\sudik\\appdata\\local\\programs\\python\\python313\\lib\\site-packages (from transformers<5.0.0,>=4.41.0->sentence_transformers) (0.21.0)\n",
      "Requirement already satisfied: safetensors>=0.4.1 in c:\\users\\sudik\\appdata\\local\\programs\\python\\python313\\lib\\site-packages (from transformers<5.0.0,>=4.41.0->sentence_transformers) (0.5.2)\n",
      "Requirement already satisfied: joblib>=1.2.0 in c:\\users\\sudik\\appdata\\local\\programs\\python\\python313\\lib\\site-packages (from scikit-learn->sentence_transformers) (1.4.2)\n",
      "Requirement already satisfied: threadpoolctl>=3.1.0 in c:\\users\\sudik\\appdata\\local\\programs\\python\\python313\\lib\\site-packages (from scikit-learn->sentence_transformers) (3.5.0)\n",
      "Requirement already satisfied: MarkupSafe>=2.0 in c:\\users\\sudik\\appdata\\local\\programs\\python\\python313\\lib\\site-packages (from jinja2->torch>=1.11.0->sentence_transformers) (2.1.5)\n",
      "Requirement already satisfied: charset-normalizer<4,>=2 in c:\\users\\sudik\\appdata\\local\\programs\\python\\python313\\lib\\site-packages (from requests->huggingface-hub>=0.20.0->sentence_transformers) (3.4.1)\n",
      "Requirement already satisfied: idna<4,>=2.5 in c:\\users\\sudik\\appdata\\local\\programs\\python\\python313\\lib\\site-packages (from requests->huggingface-hub>=0.20.0->sentence_transformers) (3.10)\n",
      "Requirement already satisfied: urllib3<3,>=1.21.1 in c:\\users\\sudik\\appdata\\local\\programs\\python\\python313\\lib\\site-packages (from requests->huggingface-hub>=0.20.0->sentence_transformers) (2.3.0)\n",
      "Requirement already satisfied: certifi>=2017.4.17 in c:\\users\\sudik\\appdata\\local\\programs\\python\\python313\\lib\\site-packages (from requests->huggingface-hub>=0.20.0->sentence_transformers) (2025.1.31)\n"
     ]
    },
    {
     "name": "stderr",
     "output_type": "stream",
     "text": [
      "\n",
      "[notice] A new release of pip is available: 25.0 -> 25.0.1\n",
      "[notice] To update, run: python.exe -m pip install --upgrade pip\n"
     ]
    },
    {
     "name": "stdout",
     "output_type": "stream",
     "text": [
      "Requirement already satisfied: langchain-community in c:\\users\\sudik\\appdata\\local\\programs\\python\\python313\\lib\\site-packages (0.3.17)\n",
      "Requirement already satisfied: langchain-core<1.0.0,>=0.3.34 in c:\\users\\sudik\\appdata\\local\\programs\\python\\python313\\lib\\site-packages (from langchain-community) (0.3.35)\n",
      "Requirement already satisfied: langchain<1.0.0,>=0.3.18 in c:\\users\\sudik\\appdata\\local\\programs\\python\\python313\\lib\\site-packages (from langchain-community) (0.3.18)\n",
      "Requirement already satisfied: SQLAlchemy<3,>=1.4 in c:\\users\\sudik\\appdata\\local\\programs\\python\\python313\\lib\\site-packages (from langchain-community) (2.0.37)\n",
      "Requirement already satisfied: requests<3,>=2 in c:\\users\\sudik\\appdata\\local\\programs\\python\\python313\\lib\\site-packages (from langchain-community) (2.32.3)\n",
      "Requirement already satisfied: PyYAML>=5.3 in c:\\users\\sudik\\appdata\\local\\programs\\python\\python313\\lib\\site-packages (from langchain-community) (6.0.2)\n",
      "Requirement already satisfied: aiohttp<4.0.0,>=3.8.3 in c:\\users\\sudik\\appdata\\local\\programs\\python\\python313\\lib\\site-packages (from langchain-community) (3.11.11)\n",
      "Requirement already satisfied: tenacity!=8.4.0,<10,>=8.1.0 in c:\\users\\sudik\\appdata\\local\\programs\\python\\python313\\lib\\site-packages (from langchain-community) (8.5.0)\n",
      "Requirement already satisfied: dataclasses-json<0.7,>=0.5.7 in c:\\users\\sudik\\appdata\\local\\programs\\python\\python313\\lib\\site-packages (from langchain-community) (0.6.7)\n",
      "Requirement already satisfied: pydantic-settings<3.0.0,>=2.4.0 in c:\\users\\sudik\\appdata\\local\\programs\\python\\python313\\lib\\site-packages (from langchain-community) (2.7.1)\n",
      "Requirement already satisfied: langsmith<0.4,>=0.1.125 in c:\\users\\sudik\\appdata\\local\\programs\\python\\python313\\lib\\site-packages (from langchain-community) (0.3.4)\n",
      "Requirement already satisfied: httpx-sse<1.0.0,>=0.4.0 in c:\\users\\sudik\\appdata\\local\\programs\\python\\python313\\lib\\site-packages (from langchain-community) (0.4.0)\n",
      "Requirement already satisfied: numpy<3,>=1.26.2 in c:\\users\\sudik\\appdata\\local\\programs\\python\\python313\\lib\\site-packages (from langchain-community) (1.26.4)\n",
      "Requirement already satisfied: aiohappyeyeballs>=2.3.0 in c:\\users\\sudik\\appdata\\local\\programs\\python\\python313\\lib\\site-packages (from aiohttp<4.0.0,>=3.8.3->langchain-community) (2.4.4)\n",
      "Requirement already satisfied: aiosignal>=1.1.2 in c:\\users\\sudik\\appdata\\local\\programs\\python\\python313\\lib\\site-packages (from aiohttp<4.0.0,>=3.8.3->langchain-community) (1.3.2)\n",
      "Requirement already satisfied: attrs>=17.3.0 in c:\\users\\sudik\\appdata\\local\\programs\\python\\python313\\lib\\site-packages (from aiohttp<4.0.0,>=3.8.3->langchain-community) (25.1.0)\n",
      "Requirement already satisfied: frozenlist>=1.1.1 in c:\\users\\sudik\\appdata\\local\\programs\\python\\python313\\lib\\site-packages (from aiohttp<4.0.0,>=3.8.3->langchain-community) (1.5.0)\n",
      "Requirement already satisfied: multidict<7.0,>=4.5 in c:\\users\\sudik\\appdata\\local\\programs\\python\\python313\\lib\\site-packages (from aiohttp<4.0.0,>=3.8.3->langchain-community) (6.1.0)\n",
      "Requirement already satisfied: propcache>=0.2.0 in c:\\users\\sudik\\appdata\\local\\programs\\python\\python313\\lib\\site-packages (from aiohttp<4.0.0,>=3.8.3->langchain-community) (0.2.1)\n",
      "Requirement already satisfied: yarl<2.0,>=1.17.0 in c:\\users\\sudik\\appdata\\local\\programs\\python\\python313\\lib\\site-packages (from aiohttp<4.0.0,>=3.8.3->langchain-community) (1.18.3)\n",
      "Requirement already satisfied: marshmallow<4.0.0,>=3.18.0 in c:\\users\\sudik\\appdata\\local\\programs\\python\\python313\\lib\\site-packages (from dataclasses-json<0.7,>=0.5.7->langchain-community) (3.26.0)\n",
      "Requirement already satisfied: typing-inspect<1,>=0.4.0 in c:\\users\\sudik\\appdata\\local\\programs\\python\\python313\\lib\\site-packages (from dataclasses-json<0.7,>=0.5.7->langchain-community) (0.9.0)\n",
      "Requirement already satisfied: langchain-text-splitters<1.0.0,>=0.3.6 in c:\\users\\sudik\\appdata\\local\\programs\\python\\python313\\lib\\site-packages (from langchain<1.0.0,>=0.3.18->langchain-community) (0.3.6)\n",
      "Requirement already satisfied: pydantic<3.0.0,>=2.7.4 in c:\\users\\sudik\\appdata\\local\\programs\\python\\python313\\lib\\site-packages (from langchain<1.0.0,>=0.3.18->langchain-community) (2.10.6)\n",
      "Requirement already satisfied: jsonpatch<2.0,>=1.33 in c:\\users\\sudik\\appdata\\local\\programs\\python\\python313\\lib\\site-packages (from langchain-core<1.0.0,>=0.3.34->langchain-community) (1.33)\n",
      "Requirement already satisfied: packaging<25,>=23.2 in c:\\users\\sudik\\appdata\\local\\programs\\python\\python313\\lib\\site-packages (from langchain-core<1.0.0,>=0.3.34->langchain-community) (23.2)\n",
      "Requirement already satisfied: typing-extensions>=4.7 in c:\\users\\sudik\\appdata\\local\\programs\\python\\python313\\lib\\site-packages (from langchain-core<1.0.0,>=0.3.34->langchain-community) (4.12.2)\n",
      "Requirement already satisfied: httpx<1,>=0.23.0 in c:\\users\\sudik\\appdata\\local\\programs\\python\\python313\\lib\\site-packages (from langsmith<0.4,>=0.1.125->langchain-community) (0.28.1)\n",
      "Requirement already satisfied: orjson<4.0.0,>=3.9.14 in c:\\users\\sudik\\appdata\\local\\programs\\python\\python313\\lib\\site-packages (from langsmith<0.4,>=0.1.125->langchain-community) (3.10.15)\n",
      "Requirement already satisfied: requests-toolbelt<2.0.0,>=1.0.0 in c:\\users\\sudik\\appdata\\local\\programs\\python\\python313\\lib\\site-packages (from langsmith<0.4,>=0.1.125->langchain-community) (1.0.0)\n",
      "Requirement already satisfied: zstandard<0.24.0,>=0.23.0 in c:\\users\\sudik\\appdata\\local\\programs\\python\\python313\\lib\\site-packages (from langsmith<0.4,>=0.1.125->langchain-community) (0.23.0)\n",
      "Requirement already satisfied: python-dotenv>=0.21.0 in c:\\users\\sudik\\appdata\\local\\programs\\python\\python313\\lib\\site-packages (from pydantic-settings<3.0.0,>=2.4.0->langchain-community) (1.0.1)\n",
      "Requirement already satisfied: charset-normalizer<4,>=2 in c:\\users\\sudik\\appdata\\local\\programs\\python\\python313\\lib\\site-packages (from requests<3,>=2->langchain-community) (3.4.1)\n",
      "Requirement already satisfied: idna<4,>=2.5 in c:\\users\\sudik\\appdata\\local\\programs\\python\\python313\\lib\\site-packages (from requests<3,>=2->langchain-community) (3.10)\n",
      "Requirement already satisfied: urllib3<3,>=1.21.1 in c:\\users\\sudik\\appdata\\local\\programs\\python\\python313\\lib\\site-packages (from requests<3,>=2->langchain-community) (2.3.0)\n",
      "Requirement already satisfied: certifi>=2017.4.17 in c:\\users\\sudik\\appdata\\local\\programs\\python\\python313\\lib\\site-packages (from requests<3,>=2->langchain-community) (2025.1.31)\n",
      "Requirement already satisfied: greenlet!=0.4.17 in c:\\users\\sudik\\appdata\\local\\programs\\python\\python313\\lib\\site-packages (from SQLAlchemy<3,>=1.4->langchain-community) (3.1.1)\n",
      "Requirement already satisfied: anyio in c:\\users\\sudik\\appdata\\local\\programs\\python\\python313\\lib\\site-packages (from httpx<1,>=0.23.0->langsmith<0.4,>=0.1.125->langchain-community) (4.8.0)\n",
      "Requirement already satisfied: httpcore==1.* in c:\\users\\sudik\\appdata\\local\\programs\\python\\python313\\lib\\site-packages (from httpx<1,>=0.23.0->langsmith<0.4,>=0.1.125->langchain-community) (1.0.7)\n",
      "Requirement already satisfied: h11<0.15,>=0.13 in c:\\users\\sudik\\appdata\\local\\programs\\python\\python313\\lib\\site-packages (from httpcore==1.*->httpx<1,>=0.23.0->langsmith<0.4,>=0.1.125->langchain-community) (0.14.0)\n",
      "Requirement already satisfied: jsonpointer>=1.9 in c:\\users\\sudik\\appdata\\local\\programs\\python\\python313\\lib\\site-packages (from jsonpatch<2.0,>=1.33->langchain-core<1.0.0,>=0.3.34->langchain-community) (3.0.0)\n",
      "Requirement already satisfied: annotated-types>=0.6.0 in c:\\users\\sudik\\appdata\\local\\programs\\python\\python313\\lib\\site-packages (from pydantic<3.0.0,>=2.7.4->langchain<1.0.0,>=0.3.18->langchain-community) (0.7.0)\n",
      "Requirement already satisfied: pydantic-core==2.27.2 in c:\\users\\sudik\\appdata\\local\\programs\\python\\python313\\lib\\site-packages (from pydantic<3.0.0,>=2.7.4->langchain<1.0.0,>=0.3.18->langchain-community) (2.27.2)\n",
      "Requirement already satisfied: mypy-extensions>=0.3.0 in c:\\users\\sudik\\appdata\\local\\programs\\python\\python313\\lib\\site-packages (from typing-inspect<1,>=0.4.0->dataclasses-json<0.7,>=0.5.7->langchain-community) (1.0.0)\n",
      "Requirement already satisfied: sniffio>=1.1 in c:\\users\\sudik\\appdata\\local\\programs\\python\\python313\\lib\\site-packages (from anyio->httpx<1,>=0.23.0->langsmith<0.4,>=0.1.125->langchain-community) (1.3.1)\n"
     ]
    },
    {
     "name": "stderr",
     "output_type": "stream",
     "text": [
      "\n",
      "[notice] A new release of pip is available: 25.0 -> 25.0.1\n",
      "[notice] To update, run: python.exe -m pip install --upgrade pip\n"
     ]
    },
    {
     "name": "stdout",
     "output_type": "stream",
     "text": [
      "Requirement already satisfied: gradio in c:\\users\\sudik\\appdata\\local\\programs\\python\\python313\\lib\\site-packages (5.16.0)\n",
      "Collecting gradio\n",
      "  Downloading gradio-5.16.1-py3-none-any.whl.metadata (16 kB)\n",
      "Requirement already satisfied: aiofiles<24.0,>=22.0 in c:\\users\\sudik\\appdata\\local\\programs\\python\\python313\\lib\\site-packages (from gradio) (23.2.1)\n",
      "Requirement already satisfied: anyio<5.0,>=3.0 in c:\\users\\sudik\\appdata\\local\\programs\\python\\python313\\lib\\site-packages (from gradio) (4.8.0)\n",
      "Requirement already satisfied: audioop-lts<1.0 in c:\\users\\sudik\\appdata\\local\\programs\\python\\python313\\lib\\site-packages (from gradio) (0.2.1)\n",
      "Requirement already satisfied: fastapi<1.0,>=0.115.2 in c:\\users\\sudik\\appdata\\local\\programs\\python\\python313\\lib\\site-packages (from gradio) (0.115.8)\n",
      "Requirement already satisfied: ffmpy in c:\\users\\sudik\\appdata\\local\\programs\\python\\python313\\lib\\site-packages (from gradio) (0.5.0)\n",
      "Requirement already satisfied: gradio-client==1.7.0 in c:\\users\\sudik\\appdata\\local\\programs\\python\\python313\\lib\\site-packages (from gradio) (1.7.0)\n",
      "Requirement already satisfied: httpx>=0.24.1 in c:\\users\\sudik\\appdata\\local\\programs\\python\\python313\\lib\\site-packages (from gradio) (0.28.1)\n",
      "Requirement already satisfied: huggingface-hub>=0.28.1 in c:\\users\\sudik\\appdata\\local\\programs\\python\\python313\\lib\\site-packages (from gradio) (0.28.1)\n",
      "Requirement already satisfied: jinja2<4.0 in c:\\users\\sudik\\appdata\\local\\programs\\python\\python313\\lib\\site-packages (from gradio) (3.1.5)\n",
      "Requirement already satisfied: markupsafe~=2.0 in c:\\users\\sudik\\appdata\\local\\programs\\python\\python313\\lib\\site-packages (from gradio) (2.1.5)\n",
      "Requirement already satisfied: numpy<3.0,>=1.0 in c:\\users\\sudik\\appdata\\local\\programs\\python\\python313\\lib\\site-packages (from gradio) (1.26.4)\n",
      "Requirement already satisfied: orjson~=3.0 in c:\\users\\sudik\\appdata\\local\\programs\\python\\python313\\lib\\site-packages (from gradio) (3.10.15)\n",
      "Requirement already satisfied: packaging in c:\\users\\sudik\\appdata\\local\\programs\\python\\python313\\lib\\site-packages (from gradio) (23.2)\n",
      "Requirement already satisfied: pandas<3.0,>=1.0 in c:\\users\\sudik\\appdata\\local\\programs\\python\\python313\\lib\\site-packages (from gradio) (2.2.3)\n",
      "Requirement already satisfied: pillow<12.0,>=8.0 in c:\\users\\sudik\\appdata\\local\\programs\\python\\python313\\lib\\site-packages (from gradio) (10.4.0)\n",
      "Requirement already satisfied: pydantic>=2.0 in c:\\users\\sudik\\appdata\\local\\programs\\python\\python313\\lib\\site-packages (from gradio) (2.10.6)\n",
      "Requirement already satisfied: pydub in c:\\users\\sudik\\appdata\\local\\programs\\python\\python313\\lib\\site-packages (from gradio) (0.25.1)\n",
      "Requirement already satisfied: python-multipart>=0.0.18 in c:\\users\\sudik\\appdata\\local\\programs\\python\\python313\\lib\\site-packages (from gradio) (0.0.20)\n",
      "Requirement already satisfied: pyyaml<7.0,>=5.0 in c:\\users\\sudik\\appdata\\local\\programs\\python\\python313\\lib\\site-packages (from gradio) (6.0.2)\n",
      "Requirement already satisfied: ruff>=0.9.3 in c:\\users\\sudik\\appdata\\local\\programs\\python\\python313\\lib\\site-packages (from gradio) (0.9.4)\n",
      "Requirement already satisfied: safehttpx<0.2.0,>=0.1.6 in c:\\users\\sudik\\appdata\\local\\programs\\python\\python313\\lib\\site-packages (from gradio) (0.1.6)\n",
      "Requirement already satisfied: semantic-version~=2.0 in c:\\users\\sudik\\appdata\\local\\programs\\python\\python313\\lib\\site-packages (from gradio) (2.10.0)\n",
      "Requirement already satisfied: starlette<1.0,>=0.40.0 in c:\\users\\sudik\\appdata\\local\\programs\\python\\python313\\lib\\site-packages (from gradio) (0.45.3)\n",
      "Requirement already satisfied: tomlkit<0.14.0,>=0.12.0 in c:\\users\\sudik\\appdata\\local\\programs\\python\\python313\\lib\\site-packages (from gradio) (0.13.2)\n",
      "Requirement already satisfied: typer<1.0,>=0.12 in c:\\users\\sudik\\appdata\\local\\programs\\python\\python313\\lib\\site-packages (from gradio) (0.15.1)\n",
      "Requirement already satisfied: typing-extensions~=4.0 in c:\\users\\sudik\\appdata\\local\\programs\\python\\python313\\lib\\site-packages (from gradio) (4.12.2)\n",
      "Requirement already satisfied: uvicorn>=0.14.0 in c:\\users\\sudik\\appdata\\local\\programs\\python\\python313\\lib\\site-packages (from gradio) (0.34.0)\n",
      "Requirement already satisfied: fsspec in c:\\users\\sudik\\appdata\\local\\programs\\python\\python313\\lib\\site-packages (from gradio-client==1.7.0->gradio) (2025.2.0)\n",
      "Requirement already satisfied: websockets<15.0,>=10.0 in c:\\users\\sudik\\appdata\\local\\programs\\python\\python313\\lib\\site-packages (from gradio-client==1.7.0->gradio) (14.2)\n",
      "Requirement already satisfied: idna>=2.8 in c:\\users\\sudik\\appdata\\local\\programs\\python\\python313\\lib\\site-packages (from anyio<5.0,>=3.0->gradio) (3.10)\n",
      "Requirement already satisfied: sniffio>=1.1 in c:\\users\\sudik\\appdata\\local\\programs\\python\\python313\\lib\\site-packages (from anyio<5.0,>=3.0->gradio) (1.3.1)\n",
      "Requirement already satisfied: certifi in c:\\users\\sudik\\appdata\\local\\programs\\python\\python313\\lib\\site-packages (from httpx>=0.24.1->gradio) (2025.1.31)\n",
      "Requirement already satisfied: httpcore==1.* in c:\\users\\sudik\\appdata\\local\\programs\\python\\python313\\lib\\site-packages (from httpx>=0.24.1->gradio) (1.0.7)\n",
      "Requirement already satisfied: h11<0.15,>=0.13 in c:\\users\\sudik\\appdata\\local\\programs\\python\\python313\\lib\\site-packages (from httpcore==1.*->httpx>=0.24.1->gradio) (0.14.0)\n",
      "Requirement already satisfied: filelock in c:\\users\\sudik\\appdata\\local\\programs\\python\\python313\\lib\\site-packages (from huggingface-hub>=0.28.1->gradio) (3.17.0)\n",
      "Requirement already satisfied: requests in c:\\users\\sudik\\appdata\\local\\programs\\python\\python313\\lib\\site-packages (from huggingface-hub>=0.28.1->gradio) (2.32.3)\n",
      "Requirement already satisfied: tqdm>=4.42.1 in c:\\users\\sudik\\appdata\\local\\programs\\python\\python313\\lib\\site-packages (from huggingface-hub>=0.28.1->gradio) (4.67.1)\n",
      "Requirement already satisfied: python-dateutil>=2.8.2 in c:\\users\\sudik\\appdata\\local\\programs\\python\\python313\\lib\\site-packages (from pandas<3.0,>=1.0->gradio) (2.9.0.post0)\n",
      "Requirement already satisfied: pytz>=2020.1 in c:\\users\\sudik\\appdata\\local\\programs\\python\\python313\\lib\\site-packages (from pandas<3.0,>=1.0->gradio) (2024.2)\n",
      "Requirement already satisfied: tzdata>=2022.7 in c:\\users\\sudik\\appdata\\local\\programs\\python\\python313\\lib\\site-packages (from pandas<3.0,>=1.0->gradio) (2024.2)\n",
      "Requirement already satisfied: annotated-types>=0.6.0 in c:\\users\\sudik\\appdata\\local\\programs\\python\\python313\\lib\\site-packages (from pydantic>=2.0->gradio) (0.7.0)\n",
      "Requirement already satisfied: pydantic-core==2.27.2 in c:\\users\\sudik\\appdata\\local\\programs\\python\\python313\\lib\\site-packages (from pydantic>=2.0->gradio) (2.27.2)\n",
      "Requirement already satisfied: click>=8.0.0 in c:\\users\\sudik\\appdata\\local\\programs\\python\\python313\\lib\\site-packages (from typer<1.0,>=0.12->gradio) (8.1.8)\n",
      "Requirement already satisfied: shellingham>=1.3.0 in c:\\users\\sudik\\appdata\\local\\programs\\python\\python313\\lib\\site-packages (from typer<1.0,>=0.12->gradio) (1.5.4)\n",
      "Requirement already satisfied: rich>=10.11.0 in c:\\users\\sudik\\appdata\\local\\programs\\python\\python313\\lib\\site-packages (from typer<1.0,>=0.12->gradio) (13.9.4)\n",
      "Requirement already satisfied: colorama in c:\\users\\sudik\\appdata\\roaming\\python\\python313\\site-packages (from click>=8.0.0->typer<1.0,>=0.12->gradio) (0.4.6)\n",
      "Requirement already satisfied: six>=1.5 in c:\\users\\sudik\\appdata\\local\\programs\\python\\python313\\lib\\site-packages (from python-dateutil>=2.8.2->pandas<3.0,>=1.0->gradio) (1.17.0)\n",
      "Requirement already satisfied: markdown-it-py>=2.2.0 in c:\\users\\sudik\\appdata\\local\\programs\\python\\python313\\lib\\site-packages (from rich>=10.11.0->typer<1.0,>=0.12->gradio) (3.0.0)\n",
      "Requirement already satisfied: pygments<3.0.0,>=2.13.0 in c:\\users\\sudik\\appdata\\roaming\\python\\python313\\site-packages (from rich>=10.11.0->typer<1.0,>=0.12->gradio) (2.19.1)\n",
      "Requirement already satisfied: charset-normalizer<4,>=2 in c:\\users\\sudik\\appdata\\local\\programs\\python\\python313\\lib\\site-packages (from requests->huggingface-hub>=0.28.1->gradio) (3.4.1)\n",
      "Requirement already satisfied: urllib3<3,>=1.21.1 in c:\\users\\sudik\\appdata\\local\\programs\\python\\python313\\lib\\site-packages (from requests->huggingface-hub>=0.28.1->gradio) (2.3.0)\n",
      "Requirement already satisfied: mdurl~=0.1 in c:\\users\\sudik\\appdata\\local\\programs\\python\\python313\\lib\\site-packages (from markdown-it-py>=2.2.0->rich>=10.11.0->typer<1.0,>=0.12->gradio) (0.1.2)\n",
      "Downloading gradio-5.16.1-py3-none-any.whl (62.2 MB)\n",
      "   ---------------------------------------- 0.0/62.2 MB ? eta -:--:--\n",
      "   ---------------------------------------- 0.3/62.2 MB ? eta -:--:--\n",
      "   ---------------------------------------- 0.5/62.2 MB 1.8 MB/s eta 0:00:34\n",
      "    --------------------------------------- 1.0/62.2 MB 1.9 MB/s eta 0:00:33\n",
      "    --------------------------------------- 1.3/62.2 MB 1.8 MB/s eta 0:00:34\n",
      "   - -------------------------------------- 1.6/62.2 MB 1.7 MB/s eta 0:00:36\n",
      "   - -------------------------------------- 2.1/62.2 MB 1.7 MB/s eta 0:00:35\n",
      "   - -------------------------------------- 2.4/62.2 MB 1.8 MB/s eta 0:00:35\n",
      "   - -------------------------------------- 2.6/62.2 MB 1.8 MB/s eta 0:00:34\n",
      "   -- ------------------------------------- 3.1/62.2 MB 1.8 MB/s eta 0:00:34\n",
      "   -- ------------------------------------- 3.7/62.2 MB 1.8 MB/s eta 0:00:32\n",
      "   -- ------------------------------------- 4.2/62.2 MB 1.9 MB/s eta 0:00:31\n",
      "   --- ------------------------------------ 4.7/62.2 MB 1.9 MB/s eta 0:00:30\n",
      "   --- ------------------------------------ 5.0/62.2 MB 2.0 MB/s eta 0:00:30\n",
      "   --- ------------------------------------ 5.5/62.2 MB 2.0 MB/s eta 0:00:29\n",
      "   --- ------------------------------------ 5.8/62.2 MB 1.9 MB/s eta 0:00:30\n",
      "   ---- ----------------------------------- 6.3/62.2 MB 1.9 MB/s eta 0:00:29\n",
      "   ---- ----------------------------------- 6.8/62.2 MB 2.0 MB/s eta 0:00:29\n",
      "   ---- ----------------------------------- 7.1/62.2 MB 2.0 MB/s eta 0:00:29\n",
      "   ---- ----------------------------------- 7.3/62.2 MB 2.0 MB/s eta 0:00:29\n",
      "   ----- ---------------------------------- 7.9/62.2 MB 2.0 MB/s eta 0:00:28\n",
      "   ----- ---------------------------------- 8.4/62.2 MB 2.0 MB/s eta 0:00:28\n",
      "   ----- ---------------------------------- 8.7/62.2 MB 2.0 MB/s eta 0:00:28\n",
      "   ------ --------------------------------- 9.4/62.2 MB 2.0 MB/s eta 0:00:27\n",
      "   ------ --------------------------------- 9.7/62.2 MB 2.0 MB/s eta 0:00:27\n",
      "   ------ --------------------------------- 10.2/62.2 MB 2.0 MB/s eta 0:00:27\n",
      "   ------ --------------------------------- 10.5/62.2 MB 2.0 MB/s eta 0:00:27\n",
      "   ------- -------------------------------- 11.0/62.2 MB 2.0 MB/s eta 0:00:26\n",
      "   ------- -------------------------------- 11.5/62.2 MB 2.0 MB/s eta 0:00:26\n",
      "   ------- -------------------------------- 11.8/62.2 MB 2.0 MB/s eta 0:00:26\n",
      "   ------- -------------------------------- 11.8/62.2 MB 2.0 MB/s eta 0:00:26\n",
      "   ------- -------------------------------- 12.1/62.2 MB 1.9 MB/s eta 0:00:27\n",
      "   -------- ------------------------------- 12.6/62.2 MB 1.9 MB/s eta 0:00:27\n",
      "   -------- ------------------------------- 12.8/62.2 MB 1.9 MB/s eta 0:00:26\n",
      "   -------- ------------------------------- 13.1/62.2 MB 1.9 MB/s eta 0:00:27\n",
      "   -------- ------------------------------- 13.4/62.2 MB 1.9 MB/s eta 0:00:27\n",
      "   -------- ------------------------------- 13.6/62.2 MB 1.9 MB/s eta 0:00:27\n",
      "   --------- ------------------------------ 14.2/62.2 MB 1.9 MB/s eta 0:00:26\n",
      "   --------- ------------------------------ 14.4/62.2 MB 1.9 MB/s eta 0:00:26\n",
      "   --------- ------------------------------ 14.9/62.2 MB 1.9 MB/s eta 0:00:26\n",
      "   --------- ------------------------------ 15.2/62.2 MB 1.9 MB/s eta 0:00:26\n",
      "   ---------- ----------------------------- 15.7/62.2 MB 1.9 MB/s eta 0:00:25\n",
      "   ---------- ----------------------------- 16.0/62.2 MB 1.9 MB/s eta 0:00:25\n",
      "   ---------- ----------------------------- 16.5/62.2 MB 1.9 MB/s eta 0:00:25\n",
      "   ---------- ----------------------------- 16.8/62.2 MB 1.9 MB/s eta 0:00:25\n",
      "   ----------- ---------------------------- 17.3/62.2 MB 1.9 MB/s eta 0:00:25\n",
      "   ----------- ---------------------------- 17.8/62.2 MB 1.9 MB/s eta 0:00:24\n",
      "   ----------- ---------------------------- 17.8/62.2 MB 1.9 MB/s eta 0:00:24\n",
      "   ----------- ---------------------------- 18.1/62.2 MB 1.9 MB/s eta 0:00:24\n",
      "   ----------- ---------------------------- 18.4/62.2 MB 1.8 MB/s eta 0:00:24\n",
      "   ----------- ---------------------------- 18.6/62.2 MB 1.8 MB/s eta 0:00:25\n",
      "   ----------- ---------------------------- 18.6/62.2 MB 1.8 MB/s eta 0:00:25\n",
      "   ------------ --------------------------- 18.9/62.2 MB 1.8 MB/s eta 0:00:25\n",
      "   ------------ --------------------------- 19.1/62.2 MB 1.8 MB/s eta 0:00:25\n",
      "   ------------ --------------------------- 19.4/62.2 MB 1.7 MB/s eta 0:00:25\n",
      "   ------------ --------------------------- 19.7/62.2 MB 1.7 MB/s eta 0:00:25\n",
      "   ------------ --------------------------- 19.9/62.2 MB 1.7 MB/s eta 0:00:25\n",
      "   ------------ --------------------------- 20.2/62.2 MB 1.7 MB/s eta 0:00:25\n",
      "   ------------ --------------------------- 20.2/62.2 MB 1.7 MB/s eta 0:00:25\n",
      "   ------------- -------------------------- 20.4/62.2 MB 1.7 MB/s eta 0:00:25\n",
      "   ------------- -------------------------- 20.7/62.2 MB 1.7 MB/s eta 0:00:25\n",
      "   ------------- -------------------------- 21.0/62.2 MB 1.7 MB/s eta 0:00:25\n",
      "   ------------- -------------------------- 21.2/62.2 MB 1.7 MB/s eta 0:00:25\n",
      "   ------------- -------------------------- 21.5/62.2 MB 1.7 MB/s eta 0:00:25\n",
      "   ------------- -------------------------- 21.8/62.2 MB 1.7 MB/s eta 0:00:25\n",
      "   -------------- ------------------------- 22.3/62.2 MB 1.7 MB/s eta 0:00:25\n",
      "   -------------- ------------------------- 22.5/62.2 MB 1.7 MB/s eta 0:00:24\n",
      "   -------------- ------------------------- 22.8/62.2 MB 1.7 MB/s eta 0:00:24\n",
      "   -------------- ------------------------- 23.1/62.2 MB 1.6 MB/s eta 0:00:24\n",
      "   --------------- ------------------------ 23.3/62.2 MB 1.6 MB/s eta 0:00:24\n",
      "   --------------- ------------------------ 23.6/62.2 MB 1.6 MB/s eta 0:00:24\n",
      "   --------------- ------------------------ 23.9/62.2 MB 1.6 MB/s eta 0:00:24\n",
      "   --------------- ------------------------ 24.1/62.2 MB 1.6 MB/s eta 0:00:24\n",
      "   --------------- ------------------------ 24.4/62.2 MB 1.6 MB/s eta 0:00:24\n",
      "   --------------- ------------------------ 24.6/62.2 MB 1.6 MB/s eta 0:00:24\n",
      "   ---------------- ----------------------- 24.9/62.2 MB 1.6 MB/s eta 0:00:24\n",
      "   ---------------- ----------------------- 25.2/62.2 MB 1.6 MB/s eta 0:00:24\n",
      "   ---------------- ----------------------- 25.4/62.2 MB 1.6 MB/s eta 0:00:24\n",
      "   ---------------- ----------------------- 25.7/62.2 MB 1.6 MB/s eta 0:00:23\n",
      "   ---------------- ----------------------- 26.0/62.2 MB 1.6 MB/s eta 0:00:23\n",
      "   ---------------- ----------------------- 26.2/62.2 MB 1.6 MB/s eta 0:00:23\n",
      "   ----------------- ---------------------- 26.5/62.2 MB 1.6 MB/s eta 0:00:23\n",
      "   ----------------- ---------------------- 26.7/62.2 MB 1.6 MB/s eta 0:00:23\n",
      "   ----------------- ---------------------- 27.0/62.2 MB 1.6 MB/s eta 0:00:23\n",
      "   ----------------- ---------------------- 27.5/62.2 MB 1.6 MB/s eta 0:00:22\n",
      "   ----------------- ---------------------- 27.8/62.2 MB 1.6 MB/s eta 0:00:22\n",
      "   ------------------ --------------------- 28.3/62.2 MB 1.6 MB/s eta 0:00:22\n",
      "   ------------------ --------------------- 28.6/62.2 MB 1.6 MB/s eta 0:00:22\n",
      "   ------------------ --------------------- 29.1/62.2 MB 1.6 MB/s eta 0:00:21\n",
      "   ------------------ --------------------- 29.4/62.2 MB 1.6 MB/s eta 0:00:21\n",
      "   ------------------- -------------------- 29.9/62.2 MB 1.6 MB/s eta 0:00:21\n",
      "   ------------------- -------------------- 30.1/62.2 MB 1.6 MB/s eta 0:00:20\n",
      "   ------------------- -------------------- 30.7/62.2 MB 1.6 MB/s eta 0:00:20\n",
      "   ------------------- -------------------- 30.9/62.2 MB 1.6 MB/s eta 0:00:20\n",
      "   -------------------- ------------------- 31.5/62.2 MB 1.6 MB/s eta 0:00:19\n",
      "   -------------------- ------------------- 31.7/62.2 MB 1.6 MB/s eta 0:00:19\n",
      "   -------------------- ------------------- 32.2/62.2 MB 1.6 MB/s eta 0:00:19\n",
      "   -------------------- ------------------- 32.5/62.2 MB 1.6 MB/s eta 0:00:19\n",
      "   --------------------- ------------------ 33.0/62.2 MB 1.6 MB/s eta 0:00:18\n",
      "   --------------------- ------------------ 33.3/62.2 MB 1.6 MB/s eta 0:00:18\n",
      "   --------------------- ------------------ 33.8/62.2 MB 1.6 MB/s eta 0:00:18\n",
      "   --------------------- ------------------ 34.1/62.2 MB 1.6 MB/s eta 0:00:18\n",
      "   ---------------------- ----------------- 34.6/62.2 MB 1.6 MB/s eta 0:00:17\n",
      "   ---------------------- ----------------- 34.9/62.2 MB 1.6 MB/s eta 0:00:17\n",
      "   ---------------------- ----------------- 35.4/62.2 MB 1.6 MB/s eta 0:00:17\n",
      "   ----------------------- ---------------- 35.9/62.2 MB 1.7 MB/s eta 0:00:16\n",
      "   ----------------------- ---------------- 36.4/62.2 MB 1.7 MB/s eta 0:00:16\n",
      "   ----------------------- ---------------- 36.7/62.2 MB 1.7 MB/s eta 0:00:16\n",
      "   ----------------------- ---------------- 37.2/62.2 MB 1.7 MB/s eta 0:00:16\n",
      "   ------------------------ --------------- 37.7/62.2 MB 1.7 MB/s eta 0:00:15\n",
      "   ------------------------ --------------- 38.0/62.2 MB 1.7 MB/s eta 0:00:15\n",
      "   ------------------------ --------------- 38.5/62.2 MB 1.7 MB/s eta 0:00:15\n",
      "   ------------------------ --------------- 38.8/62.2 MB 1.7 MB/s eta 0:00:14\n",
      "   ------------------------- -------------- 39.3/62.2 MB 1.7 MB/s eta 0:00:14\n",
      "   ------------------------- -------------- 39.8/62.2 MB 1.7 MB/s eta 0:00:14\n",
      "   ------------------------- -------------- 40.1/62.2 MB 1.7 MB/s eta 0:00:14\n",
      "   -------------------------- ------------- 40.6/62.2 MB 1.7 MB/s eta 0:00:13\n",
      "   -------------------------- ------------- 41.2/62.2 MB 1.7 MB/s eta 0:00:13\n",
      "   -------------------------- ------------- 41.4/62.2 MB 1.7 MB/s eta 0:00:13\n",
      "   -------------------------- ------------- 41.9/62.2 MB 1.7 MB/s eta 0:00:12\n",
      "   --------------------------- ------------ 42.5/62.2 MB 1.7 MB/s eta 0:00:12\n",
      "   --------------------------- ------------ 43.0/62.2 MB 1.7 MB/s eta 0:00:12\n",
      "   --------------------------- ------------ 43.3/62.2 MB 1.7 MB/s eta 0:00:12\n",
      "   ---------------------------- ----------- 43.8/62.2 MB 1.7 MB/s eta 0:00:11\n",
      "   ---------------------------- ----------- 44.0/62.2 MB 1.7 MB/s eta 0:00:11\n",
      "   ---------------------------- ----------- 44.6/62.2 MB 1.7 MB/s eta 0:00:11\n",
      "   ---------------------------- ----------- 44.8/62.2 MB 1.7 MB/s eta 0:00:11\n",
      "   ----------------------------- ---------- 45.4/62.2 MB 1.7 MB/s eta 0:00:10\n",
      "   ----------------------------- ---------- 45.9/62.2 MB 1.7 MB/s eta 0:00:10\n",
      "   ----------------------------- ---------- 46.1/62.2 MB 1.7 MB/s eta 0:00:10\n",
      "   ------------------------------ --------- 46.7/62.2 MB 1.7 MB/s eta 0:00:10\n",
      "   ------------------------------ --------- 47.2/62.2 MB 1.7 MB/s eta 0:00:09\n",
      "   ------------------------------ --------- 47.4/62.2 MB 1.7 MB/s eta 0:00:09\n",
      "   ------------------------------ --------- 48.0/62.2 MB 1.7 MB/s eta 0:00:09\n",
      "   ------------------------------- -------- 48.5/62.2 MB 1.7 MB/s eta 0:00:08\n",
      "   ------------------------------- -------- 49.0/62.2 MB 1.7 MB/s eta 0:00:08\n",
      "   ------------------------------- -------- 49.5/62.2 MB 1.8 MB/s eta 0:00:08\n",
      "   -------------------------------- ------- 50.1/62.2 MB 1.8 MB/s eta 0:00:07\n",
      "   -------------------------------- ------- 50.6/62.2 MB 1.8 MB/s eta 0:00:07\n",
      "   -------------------------------- ------- 51.1/62.2 MB 1.8 MB/s eta 0:00:07\n",
      "   --------------------------------- ------ 51.6/62.2 MB 1.8 MB/s eta 0:00:06\n",
      "   --------------------------------- ------ 52.2/62.2 MB 1.8 MB/s eta 0:00:06\n",
      "   --------------------------------- ------ 52.4/62.2 MB 1.8 MB/s eta 0:00:06\n",
      "   --------------------------------- ------ 52.7/62.2 MB 1.8 MB/s eta 0:00:06\n",
      "   ---------------------------------- ----- 53.2/62.2 MB 1.8 MB/s eta 0:00:06\n",
      "   ---------------------------------- ----- 53.5/62.2 MB 1.8 MB/s eta 0:00:05\n",
      "   ---------------------------------- ----- 54.0/62.2 MB 1.8 MB/s eta 0:00:05\n",
      "   ----------------------------------- ---- 54.5/62.2 MB 1.8 MB/s eta 0:00:05\n",
      "   ----------------------------------- ---- 55.1/62.2 MB 1.8 MB/s eta 0:00:04\n",
      "   ----------------------------------- ---- 55.6/62.2 MB 1.8 MB/s eta 0:00:04\n",
      "   ----------------------------------- ---- 55.8/62.2 MB 1.8 MB/s eta 0:00:04\n",
      "   ------------------------------------ --- 56.4/62.2 MB 1.8 MB/s eta 0:00:04\n",
      "   ------------------------------------ --- 56.6/62.2 MB 1.8 MB/s eta 0:00:04\n",
      "   ------------------------------------ --- 57.1/62.2 MB 1.8 MB/s eta 0:00:03\n",
      "   ------------------------------------- -- 57.7/62.2 MB 1.8 MB/s eta 0:00:03\n",
      "   ------------------------------------- -- 57.9/62.2 MB 1.8 MB/s eta 0:00:03\n",
      "   ------------------------------------- -- 58.2/62.2 MB 1.8 MB/s eta 0:00:03\n",
      "   ------------------------------------- -- 58.7/62.2 MB 1.8 MB/s eta 0:00:02\n",
      "   ------------------------------------- -- 59.0/62.2 MB 1.8 MB/s eta 0:00:02\n",
      "   -------------------------------------- - 59.2/62.2 MB 1.8 MB/s eta 0:00:02\n",
      "   -------------------------------------- - 59.5/62.2 MB 1.8 MB/s eta 0:00:02\n",
      "   -------------------------------------- - 60.0/62.2 MB 1.8 MB/s eta 0:00:02\n",
      "   -------------------------------------- - 60.3/62.2 MB 1.8 MB/s eta 0:00:02\n",
      "   -------------------------------------- - 60.6/62.2 MB 1.8 MB/s eta 0:00:01\n",
      "   ---------------------------------------  60.8/62.2 MB 1.8 MB/s eta 0:00:01\n",
      "   ---------------------------------------  61.1/62.2 MB 1.8 MB/s eta 0:00:01\n",
      "   ---------------------------------------  61.3/62.2 MB 1.7 MB/s eta 0:00:01\n",
      "   ---------------------------------------  61.6/62.2 MB 1.7 MB/s eta 0:00:01\n",
      "   ---------------------------------------  61.9/62.2 MB 1.7 MB/s eta 0:00:01\n",
      "   ---------------------------------------  62.1/62.2 MB 1.7 MB/s eta 0:00:01\n",
      "   ---------------------------------------- 62.2/62.2 MB 1.7 MB/s eta 0:00:00\n",
      "Installing collected packages: gradio\n",
      "  Attempting uninstall: gradio\n",
      "    Found existing installation: gradio 5.16.0\n",
      "    Uninstalling gradio-5.16.0:\n",
      "      Successfully uninstalled gradio-5.16.0\n",
      "Successfully installed gradio-5.16.1\n"
     ]
    },
    {
     "name": "stderr",
     "output_type": "stream",
     "text": [
      "\n",
      "[notice] A new release of pip is available: 25.0 -> 25.0.1\n",
      "[notice] To update, run: python.exe -m pip install --upgrade pip\n"
     ]
    },
    {
     "name": "stdout",
     "output_type": "stream",
     "text": [
      "Requirement already satisfied: transformers in c:\\users\\sudik\\appdata\\local\\programs\\python\\python313\\lib\\site-packages (4.48.3)\n",
      "Collecting transformers\n",
      "  Downloading transformers-4.49.0-py3-none-any.whl.metadata (44 kB)\n",
      "Requirement already satisfied: sentence_transformers in c:\\users\\sudik\\appdata\\local\\programs\\python\\python313\\lib\\site-packages (3.4.1)\n",
      "Requirement already satisfied: filelock in c:\\users\\sudik\\appdata\\local\\programs\\python\\python313\\lib\\site-packages (from transformers) (3.17.0)\n",
      "Requirement already satisfied: huggingface-hub<1.0,>=0.26.0 in c:\\users\\sudik\\appdata\\local\\programs\\python\\python313\\lib\\site-packages (from transformers) (0.28.1)\n",
      "Requirement already satisfied: numpy>=1.17 in c:\\users\\sudik\\appdata\\local\\programs\\python\\python313\\lib\\site-packages (from transformers) (1.26.4)\n",
      "Requirement already satisfied: packaging>=20.0 in c:\\users\\sudik\\appdata\\local\\programs\\python\\python313\\lib\\site-packages (from transformers) (23.2)\n",
      "Requirement already satisfied: pyyaml>=5.1 in c:\\users\\sudik\\appdata\\local\\programs\\python\\python313\\lib\\site-packages (from transformers) (6.0.2)\n",
      "Requirement already satisfied: regex!=2019.12.17 in c:\\users\\sudik\\appdata\\local\\programs\\python\\python313\\lib\\site-packages (from transformers) (2024.11.6)\n",
      "Requirement already satisfied: requests in c:\\users\\sudik\\appdata\\local\\programs\\python\\python313\\lib\\site-packages (from transformers) (2.32.3)\n",
      "Requirement already satisfied: tokenizers<0.22,>=0.21 in c:\\users\\sudik\\appdata\\local\\programs\\python\\python313\\lib\\site-packages (from transformers) (0.21.0)\n",
      "Requirement already satisfied: safetensors>=0.4.1 in c:\\users\\sudik\\appdata\\local\\programs\\python\\python313\\lib\\site-packages (from transformers) (0.5.2)\n",
      "Requirement already satisfied: tqdm>=4.27 in c:\\users\\sudik\\appdata\\local\\programs\\python\\python313\\lib\\site-packages (from transformers) (4.67.1)\n",
      "Requirement already satisfied: torch>=1.11.0 in c:\\users\\sudik\\appdata\\local\\programs\\python\\python313\\lib\\site-packages (from sentence_transformers) (2.6.0)\n",
      "Requirement already satisfied: scikit-learn in c:\\users\\sudik\\appdata\\local\\programs\\python\\python313\\lib\\site-packages (from sentence_transformers) (1.6.1)\n",
      "Requirement already satisfied: scipy in c:\\users\\sudik\\appdata\\local\\programs\\python\\python313\\lib\\site-packages (from sentence_transformers) (1.15.1)\n",
      "Requirement already satisfied: Pillow in c:\\users\\sudik\\appdata\\local\\programs\\python\\python313\\lib\\site-packages (from sentence_transformers) (10.4.0)\n",
      "Requirement already satisfied: fsspec>=2023.5.0 in c:\\users\\sudik\\appdata\\local\\programs\\python\\python313\\lib\\site-packages (from huggingface-hub<1.0,>=0.26.0->transformers) (2025.2.0)\n",
      "Requirement already satisfied: typing-extensions>=3.7.4.3 in c:\\users\\sudik\\appdata\\local\\programs\\python\\python313\\lib\\site-packages (from huggingface-hub<1.0,>=0.26.0->transformers) (4.12.2)\n",
      "Requirement already satisfied: networkx in c:\\users\\sudik\\appdata\\local\\programs\\python\\python313\\lib\\site-packages (from torch>=1.11.0->sentence_transformers) (3.4.2)\n",
      "Requirement already satisfied: jinja2 in c:\\users\\sudik\\appdata\\local\\programs\\python\\python313\\lib\\site-packages (from torch>=1.11.0->sentence_transformers) (3.1.5)\n",
      "Requirement already satisfied: setuptools in c:\\users\\sudik\\appdata\\local\\programs\\python\\python313\\lib\\site-packages (from torch>=1.11.0->sentence_transformers) (75.8.0)\n",
      "Requirement already satisfied: sympy==1.13.1 in c:\\users\\sudik\\appdata\\local\\programs\\python\\python313\\lib\\site-packages (from torch>=1.11.0->sentence_transformers) (1.13.1)\n",
      "Requirement already satisfied: mpmath<1.4,>=1.1.0 in c:\\users\\sudik\\appdata\\local\\programs\\python\\python313\\lib\\site-packages (from sympy==1.13.1->torch>=1.11.0->sentence_transformers) (1.3.0)\n",
      "Requirement already satisfied: colorama in c:\\users\\sudik\\appdata\\roaming\\python\\python313\\site-packages (from tqdm>=4.27->transformers) (0.4.6)\n",
      "Requirement already satisfied: charset-normalizer<4,>=2 in c:\\users\\sudik\\appdata\\local\\programs\\python\\python313\\lib\\site-packages (from requests->transformers) (3.4.1)\n",
      "Requirement already satisfied: idna<4,>=2.5 in c:\\users\\sudik\\appdata\\local\\programs\\python\\python313\\lib\\site-packages (from requests->transformers) (3.10)\n",
      "Requirement already satisfied: urllib3<3,>=1.21.1 in c:\\users\\sudik\\appdata\\local\\programs\\python\\python313\\lib\\site-packages (from requests->transformers) (2.3.0)\n",
      "Requirement already satisfied: certifi>=2017.4.17 in c:\\users\\sudik\\appdata\\local\\programs\\python\\python313\\lib\\site-packages (from requests->transformers) (2025.1.31)\n",
      "Requirement already satisfied: joblib>=1.2.0 in c:\\users\\sudik\\appdata\\local\\programs\\python\\python313\\lib\\site-packages (from scikit-learn->sentence_transformers) (1.4.2)\n",
      "Requirement already satisfied: threadpoolctl>=3.1.0 in c:\\users\\sudik\\appdata\\local\\programs\\python\\python313\\lib\\site-packages (from scikit-learn->sentence_transformers) (3.5.0)\n",
      "Requirement already satisfied: MarkupSafe>=2.0 in c:\\users\\sudik\\appdata\\local\\programs\\python\\python313\\lib\\site-packages (from jinja2->torch>=1.11.0->sentence_transformers) (2.1.5)\n",
      "Downloading transformers-4.49.0-py3-none-any.whl (10.0 MB)\n",
      "   ---------------------------------------- 0.0/10.0 MB ? eta -:--:--\n",
      "   - -------------------------------------- 0.3/10.0 MB ? eta -:--:--\n",
      "   --- ------------------------------------ 0.8/10.0 MB 3.3 MB/s eta 0:00:03\n",
      "   ----- ---------------------------------- 1.3/10.0 MB 2.7 MB/s eta 0:00:04\n",
      "   ------- -------------------------------- 1.8/10.0 MB 2.7 MB/s eta 0:00:03\n",
      "   ---------- ----------------------------- 2.6/10.0 MB 2.7 MB/s eta 0:00:03\n",
      "   ----------- ---------------------------- 2.9/10.0 MB 2.5 MB/s eta 0:00:03\n",
      "   ------------- -------------------------- 3.4/10.0 MB 2.5 MB/s eta 0:00:03\n",
      "   -------------- ------------------------- 3.7/10.0 MB 2.4 MB/s eta 0:00:03\n",
      "   --------------- ------------------------ 3.9/10.0 MB 2.4 MB/s eta 0:00:03\n",
      "   ----------------- ---------------------- 4.5/10.0 MB 2.2 MB/s eta 0:00:03\n",
      "   ------------------ --------------------- 4.7/10.0 MB 2.2 MB/s eta 0:00:03\n",
      "   --------------------- ------------------ 5.2/10.0 MB 2.2 MB/s eta 0:00:03\n",
      "   ---------------------- ----------------- 5.5/10.0 MB 2.2 MB/s eta 0:00:03\n",
      "   ----------------------- ---------------- 5.8/10.0 MB 2.1 MB/s eta 0:00:02\n",
      "   ------------------------ --------------- 6.0/10.0 MB 2.0 MB/s eta 0:00:02\n",
      "   ------------------------- -------------- 6.3/10.0 MB 1.9 MB/s eta 0:00:02\n",
      "   -------------------------- ------------- 6.6/10.0 MB 1.9 MB/s eta 0:00:02\n",
      "   -------------------------- ------------- 6.6/10.0 MB 1.9 MB/s eta 0:00:02\n",
      "   --------------------------- ------------ 6.8/10.0 MB 1.8 MB/s eta 0:00:02\n",
      "   ---------------------------- ----------- 7.1/10.0 MB 1.7 MB/s eta 0:00:02\n",
      "   ----------------------------- ---------- 7.3/10.0 MB 1.7 MB/s eta 0:00:02\n",
      "   ------------------------------ --------- 7.6/10.0 MB 1.7 MB/s eta 0:00:02\n",
      "   ------------------------------ --------- 7.6/10.0 MB 1.7 MB/s eta 0:00:02\n",
      "   ------------------------------- -------- 7.9/10.0 MB 1.6 MB/s eta 0:00:02\n",
      "   -------------------------------- ------- 8.1/10.0 MB 1.6 MB/s eta 0:00:02\n",
      "   --------------------------------- ------ 8.4/10.0 MB 1.6 MB/s eta 0:00:02\n",
      "   --------------------------------- ------ 8.4/10.0 MB 1.6 MB/s eta 0:00:02\n",
      "   ---------------------------------- ----- 8.7/10.0 MB 1.5 MB/s eta 0:00:01\n",
      "   ----------------------------------- ---- 8.9/10.0 MB 1.5 MB/s eta 0:00:01\n",
      "   ------------------------------------ --- 9.2/10.0 MB 1.5 MB/s eta 0:00:01\n",
      "   ------------------------------------- -- 9.4/10.0 MB 1.5 MB/s eta 0:00:01\n",
      "   -------------------------------------- - 9.7/10.0 MB 1.5 MB/s eta 0:00:01\n",
      "   ---------------------------------------- 10.0/10.0 MB 1.5 MB/s eta 0:00:00\n",
      "Installing collected packages: transformers\n",
      "  Attempting uninstall: transformers\n",
      "    Found existing installation: transformers 4.48.3\n",
      "    Uninstalling transformers-4.48.3:\n",
      "      Successfully uninstalled transformers-4.48.3\n",
      "Successfully installed transformers-4.49.0\n"
     ]
    },
    {
     "name": "stderr",
     "output_type": "stream",
     "text": [
      "\n",
      "[notice] A new release of pip is available: 25.0 -> 25.0.1\n",
      "[notice] To update, run: python.exe -m pip install --upgrade pip\n"
     ]
    },
    {
     "name": "stdout",
     "output_type": "stream",
     "text": [
      "Collecting gTTS\n",
      "  Downloading gTTS-2.5.4-py3-none-any.whl.metadata (4.1 kB)\n",
      "Requirement already satisfied: requests<3,>=2.27 in c:\\users\\sudik\\appdata\\local\\programs\\python\\python313\\lib\\site-packages (from gTTS) (2.32.3)\n",
      "Requirement already satisfied: click<8.2,>=7.1 in c:\\users\\sudik\\appdata\\local\\programs\\python\\python313\\lib\\site-packages (from gTTS) (8.1.8)\n",
      "Requirement already satisfied: colorama in c:\\users\\sudik\\appdata\\roaming\\python\\python313\\site-packages (from click<8.2,>=7.1->gTTS) (0.4.6)\n",
      "Requirement already satisfied: charset-normalizer<4,>=2 in c:\\users\\sudik\\appdata\\local\\programs\\python\\python313\\lib\\site-packages (from requests<3,>=2.27->gTTS) (3.4.1)\n",
      "Requirement already satisfied: idna<4,>=2.5 in c:\\users\\sudik\\appdata\\local\\programs\\python\\python313\\lib\\site-packages (from requests<3,>=2.27->gTTS) (3.10)\n",
      "Requirement already satisfied: urllib3<3,>=1.21.1 in c:\\users\\sudik\\appdata\\local\\programs\\python\\python313\\lib\\site-packages (from requests<3,>=2.27->gTTS) (2.3.0)\n",
      "Requirement already satisfied: certifi>=2017.4.17 in c:\\users\\sudik\\appdata\\local\\programs\\python\\python313\\lib\\site-packages (from requests<3,>=2.27->gTTS) (2025.1.31)\n",
      "Downloading gTTS-2.5.4-py3-none-any.whl (29 kB)\n",
      "Installing collected packages: gTTS\n",
      "Successfully installed gTTS-2.5.4\n"
     ]
    },
    {
     "name": "stderr",
     "output_type": "stream",
     "text": [
      "\n",
      "[notice] A new release of pip is available: 25.0 -> 25.0.1\n",
      "[notice] To update, run: python.exe -m pip install --upgrade pip\n"
     ]
    },
    {
     "name": "stdout",
     "output_type": "stream",
     "text": [
      "Requirement already satisfied: transformers in c:\\users\\sudik\\appdata\\local\\programs\\python\\python313\\lib\\site-packages (4.49.0)"
     ]
    },
    {
     "name": "stderr",
     "output_type": "stream",
     "text": [
      "\n",
      "[notice] A new release of pip is available: 25.0 -> 25.0.1\n",
      "[notice] To update, run: python.exe -m pip install --upgrade pip\n"
     ]
    },
    {
     "name": "stdout",
     "output_type": "stream",
     "text": [
      "\n",
      "Requirement already satisfied: filelock in c:\\users\\sudik\\appdata\\local\\programs\\python\\python313\\lib\\site-packages (from transformers) (3.17.0)\n",
      "Requirement already satisfied: huggingface-hub<1.0,>=0.26.0 in c:\\users\\sudik\\appdata\\local\\programs\\python\\python313\\lib\\site-packages (from transformers) (0.28.1)\n",
      "Requirement already satisfied: numpy>=1.17 in c:\\users\\sudik\\appdata\\local\\programs\\python\\python313\\lib\\site-packages (from transformers) (1.26.4)\n",
      "Requirement already satisfied: packaging>=20.0 in c:\\users\\sudik\\appdata\\local\\programs\\python\\python313\\lib\\site-packages (from transformers) (23.2)\n",
      "Requirement already satisfied: pyyaml>=5.1 in c:\\users\\sudik\\appdata\\local\\programs\\python\\python313\\lib\\site-packages (from transformers) (6.0.2)\n",
      "Requirement already satisfied: regex!=2019.12.17 in c:\\users\\sudik\\appdata\\local\\programs\\python\\python313\\lib\\site-packages (from transformers) (2024.11.6)\n",
      "Requirement already satisfied: requests in c:\\users\\sudik\\appdata\\local\\programs\\python\\python313\\lib\\site-packages (from transformers) (2.32.3)\n",
      "Requirement already satisfied: tokenizers<0.22,>=0.21 in c:\\users\\sudik\\appdata\\local\\programs\\python\\python313\\lib\\site-packages (from transformers) (0.21.0)\n",
      "Requirement already satisfied: safetensors>=0.4.1 in c:\\users\\sudik\\appdata\\local\\programs\\python\\python313\\lib\\site-packages (from transformers) (0.5.2)\n",
      "Requirement already satisfied: tqdm>=4.27 in c:\\users\\sudik\\appdata\\local\\programs\\python\\python313\\lib\\site-packages (from transformers) (4.67.1)\n",
      "Requirement already satisfied: fsspec>=2023.5.0 in c:\\users\\sudik\\appdata\\local\\programs\\python\\python313\\lib\\site-packages (from huggingface-hub<1.0,>=0.26.0->transformers) (2025.2.0)\n",
      "Requirement already satisfied: typing-extensions>=3.7.4.3 in c:\\users\\sudik\\appdata\\local\\programs\\python\\python313\\lib\\site-packages (from huggingface-hub<1.0,>=0.26.0->transformers) (4.12.2)\n",
      "Requirement already satisfied: colorama in c:\\users\\sudik\\appdata\\roaming\\python\\python313\\site-packages (from tqdm>=4.27->transformers) (0.4.6)\n",
      "Requirement already satisfied: charset-normalizer<4,>=2 in c:\\users\\sudik\\appdata\\local\\programs\\python\\python313\\lib\\site-packages (from requests->transformers) (3.4.1)\n",
      "Requirement already satisfied: idna<4,>=2.5 in c:\\users\\sudik\\appdata\\local\\programs\\python\\python313\\lib\\site-packages (from requests->transformers) (3.10)\n",
      "Requirement already satisfied: urllib3<3,>=1.21.1 in c:\\users\\sudik\\appdata\\local\\programs\\python\\python313\\lib\\site-packages (from requests->transformers) (2.3.0)\n",
      "Requirement already satisfied: certifi>=2017.4.17 in c:\\users\\sudik\\appdata\\local\\programs\\python\\python313\\lib\\site-packages (from requests->transformers) (2025.1.31)\n"
     ]
    }
   ],
   "source": [
    "!pip install langchain_groq\n",
    "!pip install pypdf\n",
    "!pip install chromadb\n",
    "!pip install sentence_transformers\n",
    "!pip install -U langchain-community\n",
    "!pip install --upgrade gradio\n",
    "!pip install --upgrade transformers sentence_transformers\n",
    "!pip install gTTS\n",
    "!pip install transformers\n",
    "# install in Terminal by creating an new virtual environment with out interfeatence of other packages"
   ]
  },
  {
   "cell_type": "code",
   "execution_count": 2,
   "metadata": {},
   "outputs": [
    {
     "name": "stderr",
     "output_type": "stream",
     "text": [
      "ERROR: Could not find a version that satisfies the requirement tensorflow (from versions: none)\n",
      "\n",
      "[notice] A new release of pip is available: 25.0 -> 25.0.1\n",
      "[notice] To update, run: python.exe -m pip install --upgrade pip\n",
      "ERROR: No matching distribution found for tensorflow\n"
     ]
    }
   ],
   "source": [
    "!pip install --upgrade tensorflow"
   ]
  },
  {
   "cell_type": "markdown",
   "metadata": {},
   "source": [
    "Importing required Libraries and functions"
   ]
  },
  {
   "cell_type": "code",
   "execution_count": 4,
   "metadata": {},
   "outputs": [],
   "source": [
    "from gtts import gTTS\n",
    "from transformers import pipeline\n",
    "from langchain_groq import ChatGroq\n",
    "from IPython import get_ipython\n",
    "from IPython.display import display\n",
    "from langchain.embeddings import HuggingFaceBgeEmbeddings\n",
    "from langchain.document_loaders import PyPDFLoader, DirectoryLoader\n",
    "from langchain.vectorstores import Chroma\n",
    "from langchain.chains import RetrievalQA\n",
    "from langchain.prompts import PromptTemplate\n",
    "from langchain.text_splitter import RecursiveCharacterTextSplitter\n",
    "import os\n",
    "import chromadb\n",
    "import gradio as gr\n",
    "import tempfile\n"
   ]
  },
  {
   "cell_type": "markdown",
   "metadata": {},
   "source": [
    "pipeline"
   ]
  },
  {
   "cell_type": "code",
   "execution_count": 5,
   "metadata": {},
   "outputs": [
    {
     "data": {
      "application/vnd.jupyter.widget-view+json": {
       "model_id": "c48480c1aec842788f1596ffb8468fb9",
       "version_major": 2,
       "version_minor": 0
      },
      "text/plain": [
       "config.json:   0%|          | 0.00/1.97k [00:00<?, ?B/s]"
      ]
     },
     "metadata": {},
     "output_type": "display_data"
    },
    {
     "name": "stderr",
     "output_type": "stream",
     "text": [
      "c:\\Users\\sudik\\AppData\\Local\\Programs\\Python\\Python313\\Lib\\site-packages\\huggingface_hub\\file_download.py:140: UserWarning: `huggingface_hub` cache-system uses symlinks by default to efficiently store duplicated files but your machine does not support them in C:\\Users\\sudik\\.cache\\huggingface\\hub\\models--openai--whisper-small. Caching files will still work but in a degraded version that might require more space on your disk. This warning can be disabled by setting the `HF_HUB_DISABLE_SYMLINKS_WARNING` environment variable. For more details, see https://huggingface.co/docs/huggingface_hub/how-to-cache#limitations.\n",
      "To support symlinks on Windows, you either need to activate Developer Mode or to run Python as an administrator. In order to activate developer mode, see this article: https://docs.microsoft.com/en-us/windows/apps/get-started/enable-your-device-for-development\n",
      "  warnings.warn(message)\n"
     ]
    },
    {
     "data": {
      "application/vnd.jupyter.widget-view+json": {
       "model_id": "6b41f566a08f4e9397e4c2fef117a6d7",
       "version_major": 2,
       "version_minor": 0
      },
      "text/plain": [
       "model.safetensors:   0%|          | 0.00/967M [00:00<?, ?B/s]"
      ]
     },
     "metadata": {},
     "output_type": "display_data"
    },
    {
     "data": {
      "application/vnd.jupyter.widget-view+json": {
       "model_id": "15592a8c0eeb41ceb47178d944aa8899",
       "version_major": 2,
       "version_minor": 0
      },
      "text/plain": [
       "generation_config.json:   0%|          | 0.00/3.87k [00:00<?, ?B/s]"
      ]
     },
     "metadata": {},
     "output_type": "display_data"
    },
    {
     "data": {
      "application/vnd.jupyter.widget-view+json": {
       "model_id": "d199455d2aab41bea509238ce4f9dd4b",
       "version_major": 2,
       "version_minor": 0
      },
      "text/plain": [
       "tokenizer_config.json:   0%|          | 0.00/283k [00:00<?, ?B/s]"
      ]
     },
     "metadata": {},
     "output_type": "display_data"
    },
    {
     "data": {
      "application/vnd.jupyter.widget-view+json": {
       "model_id": "8bbfe58c89124249927c63b12df2f1dd",
       "version_major": 2,
       "version_minor": 0
      },
      "text/plain": [
       "vocab.json:   0%|          | 0.00/836k [00:00<?, ?B/s]"
      ]
     },
     "metadata": {},
     "output_type": "display_data"
    },
    {
     "data": {
      "application/vnd.jupyter.widget-view+json": {
       "model_id": "f61a5bd2fe304f61be10b80eec2a26a9",
       "version_major": 2,
       "version_minor": 0
      },
      "text/plain": [
       "tokenizer.json:   0%|          | 0.00/2.48M [00:00<?, ?B/s]"
      ]
     },
     "metadata": {},
     "output_type": "display_data"
    },
    {
     "data": {
      "application/vnd.jupyter.widget-view+json": {
       "model_id": "ed7ab86ba1844cfb82990d583e36471c",
       "version_major": 2,
       "version_minor": 0
      },
      "text/plain": [
       "merges.txt:   0%|          | 0.00/494k [00:00<?, ?B/s]"
      ]
     },
     "metadata": {},
     "output_type": "display_data"
    },
    {
     "data": {
      "application/vnd.jupyter.widget-view+json": {
       "model_id": "21068aeac1414eeea3edb844ff79c1ae",
       "version_major": 2,
       "version_minor": 0
      },
      "text/plain": [
       "normalizer.json:   0%|          | 0.00/52.7k [00:00<?, ?B/s]"
      ]
     },
     "metadata": {},
     "output_type": "display_data"
    },
    {
     "data": {
      "application/vnd.jupyter.widget-view+json": {
       "model_id": "08c68851bb8246f491852b3870e76a0b",
       "version_major": 2,
       "version_minor": 0
      },
      "text/plain": [
       "added_tokens.json:   0%|          | 0.00/34.6k [00:00<?, ?B/s]"
      ]
     },
     "metadata": {},
     "output_type": "display_data"
    },
    {
     "data": {
      "application/vnd.jupyter.widget-view+json": {
       "model_id": "b2b01f115b1d4d499b4f8ffaba799f45",
       "version_major": 2,
       "version_minor": 0
      },
      "text/plain": [
       "special_tokens_map.json:   0%|          | 0.00/2.19k [00:00<?, ?B/s]"
      ]
     },
     "metadata": {},
     "output_type": "display_data"
    },
    {
     "data": {
      "application/vnd.jupyter.widget-view+json": {
       "model_id": "77c44358717e4c3e98dde85666b80f12",
       "version_major": 2,
       "version_minor": 0
      },
      "text/plain": [
       "preprocessor_config.json:   0%|          | 0.00/185k [00:00<?, ?B/s]"
      ]
     },
     "metadata": {},
     "output_type": "display_data"
    },
    {
     "name": "stderr",
     "output_type": "stream",
     "text": [
      "Device set to use cpu\n"
     ]
    }
   ],
   "source": [
    "stt_pipe = pipeline(\"automatic-speech-recognition\", model=\"openai/whisper-small\")"
   ]
  },
  {
   "cell_type": "markdown",
   "metadata": {},
   "source": [
    "Initializing LLM model"
   ]
  },
  {
   "cell_type": "code",
   "execution_count": 6,
   "metadata": {},
   "outputs": [],
   "source": [
    "\n",
    "def initialize_llm():\n",
    "    llm = ChatGroq(\n",
    "        temperature=0,\n",
    "        groq_api_key=\"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\",\n",
    "        model_name=\"llama-3.3-70b-versatile\"\n",
    "    )\n",
    "    return llm"
   ]
  },
  {
   "cell_type": "markdown",
   "metadata": {},
   "source": [
    "Testing Response"
   ]
  },
  {
   "cell_type": "code",
   "execution_count": 7,
   "metadata": {},
   "outputs": [
    {
     "name": "stdout",
     "output_type": "stream",
     "text": [
      "Mental health refers to a person's emotional, psychological, and social well-being. It encompasses various aspects of a person's life, including their thoughts, feelings, behaviors, and relationships. Good mental health is essential for overall health and well-being, as it enables individuals to:\n",
      "\n",
      "1. **Cope with stress**: Manage and adapt to challenging situations, such as work, relationships, or financial difficulties.\n",
      "2. **Regulate emotions**: Experience and express a range of emotions, including happiness, sadness, anger, and fear, in a healthy and constructive way.\n",
      "3. **Maintain relationships**: Build and maintain strong, supportive relationships with family, friends, and community.\n",
      "4. **Make informed decisions**: Think critically and make sound decisions about their life, health, and well-being.\n",
      "5. **Engage in activities**: Participate in activities that bring joy, fulfillment, and a sense of purpose.\n",
      "\n",
      "Mental health can be influenced by various factors, including:\n",
      "\n",
      "1. **Genetics**: Family history and genetic predisposition can play a role in mental health.\n",
      "2. **Environment**: Life experiences, such as trauma, abuse, or neglect, can impact mental health.\n",
      "3. **Brain chemistry**: Imbalances in neurotransmitters, such as serotonin and dopamine, can affect mood and behavior.\n",
      "4. **Lifestyle**: Diet, exercise, sleep, and substance use can all impact mental health.\n",
      "\n",
      "Common mental health conditions include:\n",
      "\n",
      "1. **Anxiety disorders**: Excessive worry, fear, or anxiety that interferes with daily life.\n",
      "2. **Depressive disorders**: Persistent feelings of sadness, hopelessness, or loss of interest in activities.\n",
      "3. **Bipolar disorder**: Extreme mood swings, ranging from mania to depression.\n",
      "4. **Post-traumatic stress disorder (PTSD)**: Symptoms that develop after experiencing a traumatic event.\n",
      "5. **Attention deficit hyperactivity disorder (ADHD)**: Difficulty with attention, impulsivity, and hyperactivity.\n",
      "\n",
      "Maintaining good mental health requires:\n",
      "\n",
      "1. **Self-care**: Engaging in activities that promote relaxation and stress reduction, such as exercise, meditation, or hobbies.\n",
      "2. **Social support**: Building and maintaining strong relationships with family, friends, and community.\n",
      "3. **Professional help**: Seeking help from mental health professionals, such as therapists or counselors, when needed.\n",
      "4. **Healthy habits**: Practicing healthy habits, such as a balanced diet, regular exercise, and adequate sleep.\n",
      "\n",
      "Remember, mental health is just as important as physical health, and seeking help is a sign of strength, not weakness.\n"
     ]
    }
   ],
   "source": [
    "llm = initialize_llm()\n",
    "result = llm.invoke(\"What is mental health\")\n",
    "print(result.content)"
   ]
  },
  {
   "cell_type": "markdown",
   "metadata": {},
   "source": [
    "Setting up vector DB"
   ]
  },
  {
   "cell_type": "code",
   "execution_count": 8,
   "metadata": {},
   "outputs": [],
   "source": [
    "def create_vector_db():\n",
    "    loader = DirectoryLoader(r\"C:\\Users\\sudik\\OneDrive\\Desktop\\Calm Me\\TrainingDoc\", glob='*.pdf', loader_cls=PyPDFLoader)\n",
    "    documents = loader.load()\n",
    "    text_splitter = RecursiveCharacterTextSplitter(chunk_size=500, chunk_overlap=50)\n",
    "    texts = text_splitter.split_documents(documents)\n",
    "    embeddings = HuggingFaceBgeEmbeddings(model_name='sentence-transformers/all-MiniLM-L6-v2')\n",
    "    vector_db = Chroma.from_documents(texts, embeddings, persist_directory='./chroma_db')\n",
    "    vector_db.persist()\n",
    "    return vector_db"
   ]
  },
  {
   "cell_type": "markdown",
   "metadata": {},
   "source": [
    "Audio to text"
   ]
  },
  {
   "cell_type": "code",
   "execution_count": 9,
   "metadata": {},
   "outputs": [],
   "source": [
    "def audio_to_text(audio_path):\n",
    "    if audio_path is None:\n",
    "        return None\n",
    "    text = stt_pipe(audio_path)[\"text\"]\n",
    "    return text"
   ]
  },
  {
   "cell_type": "markdown",
   "metadata": {},
   "source": [
    "text to audio"
   ]
  },
  {
   "cell_type": "code",
   "execution_count": 10,
   "metadata": {},
   "outputs": [],
   "source": [
    "def text_to_audio(text):\n",
    "    if not text:\n",
    "        return None\n",
    "    tts = gTTS(text=text, lang='en')\n",
    "    temp_file = tempfile.NamedTemporaryFile(delete=False, suffix=\".mp3\")\n",
    "    tts.save(temp_file.name)\n",
    "    return temp_file.name"
   ]
  },
  {
   "cell_type": "markdown",
   "metadata": {},
   "source": [
    "User input processing"
   ]
  },
  {
   "cell_type": "code",
   "execution_count": 11,
   "metadata": {},
   "outputs": [],
   "source": [
    "def process_user_input(user_input, chat_history):\n",
    "    if not user_input.strip():\n",
    "        return chat_history, None\n",
    "\n",
    "    response = qa_chain({\"query\": user_input})\n",
    "    answer = response[\"result\"]\n",
    "\n",
    "    # Crisis detection\n",
    "    crisis_keywords = ['suicide', 'self-harm', 'kill myself']\n",
    "    if any(keyword in user_input.lower() for keyword in crisis_keywords):\n",
    "        answer += \"\\n\\nIf you're in crisis, please contact: \" \\\n",
    "                  \"\\n- National Suicide Prevention Lifeline: 9152987821 (IND) \" \\\n",
    "                  \"\\n- Crisis Text Line: TEXT HOME to 741741\"\n",
    "\n",
    "    # Convert response to audio\n",
    "    audio_path = text_to_audio(answer)\n",
    "    chat_history.append((user_input, answer))\n",
    "    return chat_history, audio_path"
   ]
  },
  {
   "cell_type": "markdown",
   "metadata": {},
   "source": [
    "gardio chat function"
   ]
  },
  {
   "cell_type": "code",
   "execution_count": 12,
   "metadata": {},
   "outputs": [],
   "source": [
    "def gradio_chat(user_input, chat_history):\n",
    "    chat_history, audio_path = process_user_input(user_input, chat_history)\n",
    "    return \"\", chat_history, audio_path\n",
    "\n",
    "def voice_chat(audio_path, chat_history):\n",
    "    if audio_path is None:\n",
    "        return chat_history, None\n",
    "\n",
    "    user_input = audio_to_text(audio_path)\n",
    "    if not user_input.strip():\n",
    "        return chat_history + [(\"\", \"Could not understand the audio. Please try again.\")], None\n",
    "\n",
    "    chat_history, audio_path = process_user_input(user_input, chat_history)\n",
    "    return chat_history, audio_path"
   ]
  },
  {
   "cell_type": "markdown",
   "metadata": {},
   "source": [
    "Q/A chain setup"
   ]
  },
  {
   "cell_type": "code",
   "execution_count": 13,
   "metadata": {},
   "outputs": [
    {
     "name": "stderr",
     "output_type": "stream",
     "text": [
      "C:\\Users\\sudik\\AppData\\Local\\Temp\\ipykernel_18892\\3340131855.py:4: LangChainDeprecationWarning: The class `HuggingFaceBgeEmbeddings` was deprecated in LangChain 0.2.2 and will be removed in 1.0. An updated version of the class exists in the :class:`~langchain-huggingface package and should be used instead. To use it run `pip install -U :class:`~langchain-huggingface` and import as `from :class:`~langchain_huggingface import HuggingFaceEmbeddings``.\n",
      "  embedding_function=HuggingFaceBgeEmbeddings(model_name='sentence-transformers/all-MiniLM-L6-v2')\n",
      "C:\\Users\\sudik\\AppData\\Local\\Temp\\ipykernel_18892\\3340131855.py:2: LangChainDeprecationWarning: The class `Chroma` was deprecated in LangChain 0.2.9 and will be removed in 1.0. An updated version of the class exists in the :class:`~langchain-chroma package and should be used instead. To use it run `pip install -U :class:`~langchain-chroma` and import as `from :class:`~langchain_chroma import Chroma``.\n",
      "  vector_db = create_vector_db() if not os.path.exists(\"./chroma_db\") else Chroma(\n"
     ]
    }
   ],
   "source": [
    "llm = initialize_llm()\n",
    "vector_db = create_vector_db() if not os.path.exists(\"./chroma_db\") else Chroma(\n",
    "    persist_directory='./chroma_db',\n",
    "    embedding_function=HuggingFaceBgeEmbeddings(model_name='sentence-transformers/all-MiniLM-L6-v2')\n",
    ")\n",
    "def setup_qa_chain(vector_db, llm):\n",
    "    retriever = vector_db.as_retriever()\n",
    "    prompt_template = \"\"\"You are a compassionate mental health companion. Respond to the user with empathy and care.\n",
    "    Offer supportive suggestions and validate their feelings. Keep responses concise (1-5 lines).\n",
    "    If serious concerns are mentioned, gently suggest professional resources.\n",
    "\n",
    "    Context: {context}\n",
    "    User: {question}\n",
    "    Compassionate Response:\"\"\"\n",
    "\n",
    "    PROMPT = PromptTemplate(\n",
    "        template=prompt_template,\n",
    "        input_variables=[\"context\", \"question\"]\n",
    "    )\n",
    "\n",
    "    return RetrievalQA.from_chain_type(\n",
    "        llm=llm,\n",
    "        chain_type=\"stuff\",\n",
    "        retriever=retriever,\n",
    "        chain_type_kwargs={\"prompt\": PROMPT},\n",
    "        return_source_documents=True\n",
    "    )\n",
    "qa_chain = setup_qa_chain(vector_db, llm)"
   ]
  },
  {
   "cell_type": "markdown",
   "metadata": {},
   "source": [
    "Creating gradio Interface"
   ]
  },
  {
   "cell_type": "code",
   "execution_count": null,
   "metadata": {},
   "outputs": [
    {
     "name": "stderr",
     "output_type": "stream",
     "text": [
      "c:\\Users\\sudik\\AppData\\Local\\Programs\\Python\\Python313\\Lib\\site-packages\\gradio\\components\\chatbot.py:284: UserWarning: You have not specified a value for the `type` parameter. Defaulting to the 'tuples' format for chatbot messages, but this is deprecated and will be removed in a future version of Gradio. Please set type='messages' instead, which uses openai-style dictionaries with 'role' and 'content' keys.\n",
      "  warnings.warn(\n"
     ]
    },
    {
     "name": "stdout",
     "output_type": "stream",
     "text": [
      "* Running on local URL:  http://127.0.0.1:7860\n",
      "\n",
      "Could not create share link. Please check your internet connection or our status page: https://status.gradio.app.\n"
     ]
    },
    {
     "data": {
      "text/html": [
       "<div><iframe src=\"http://127.0.0.1:7860/\" width=\"100%\" height=\"500\" allow=\"autoplay; camera; microphone; clipboard-read; clipboard-write;\" frameborder=\"0\" allowfullscreen></iframe></div>"
      ],
      "text/plain": [
       "<IPython.core.display.HTML object>"
      ]
     },
     "metadata": {},
     "output_type": "display_data"
    }
   ],
   "source": [
    "with gr.Blocks(theme=gr.themes.Soft()) as demo:\n",
    "    gr.Markdown(\"# 🌸CalmMe🌸\")\n",
    "    gr.Markdown(\"Welcome! I'm here to listen and support you. How are you feeling today?\")\n",
    "\n",
    "    chatbot = gr.Chatbot(height=400)\n",
    "    audio_output = gr.Audio(label=\"Response Audio\", autoplay=True)\n",
    "\n",
    "    with gr.Row():\n",
    "        msg = gr.Textbox(label=\"Your Message\", container=False)\n",
    "        voice_input = gr.Audio(type=\"filepath\", label=\"Voice Message\")\n",
    "\n",
    "    with gr.Row():\n",
    "        text_submit = gr.Button(\"Send Text\")\n",
    "        voice_submit = gr.Button(\"Send Voice\")\n",
    "        clear = gr.Button(\"Clear\")\n",
    "\n",
    "    text_submit.click(\n",
    "        gradio_chat,\n",
    "        [msg, chatbot],\n",
    "        [msg, chatbot, audio_output]\n",
    "    )\n",
    "\n",
    "    voice_submit.click(\n",
    "        voice_chat,\n",
    "        [voice_input, chatbot],\n",
    "        [chatbot, audio_output]\n",
    "    )\n",
    "\n",
    "    msg.submit(\n",
    "        gradio_chat,\n",
    "        [msg, chatbot],\n",
    "        [msg, chatbot, audio_output]\n",
    "    )\n",
    "\n",
    "    clear.click(lambda: None, None, chatbot, queue=False)\n",
    "\n",
    "demo.launch(debug=True, share=True)"
   ]
  }
 ],
 "metadata": {
  "kernelspec": {
   "display_name": "Python 3",
   "language": "python",
   "name": "python3"
  },
  "language_info": {
   "codemirror_mode": {
    "name": "ipython",
    "version": 3
   },
   "file_extension": ".py",
   "mimetype": "text/x-python",
   "name": "python",
   "nbconvert_exporter": "python",
   "pygments_lexer": "ipython3",
   "version": "3.13.1"
  }
 },
 "nbformat": 4,
 "nbformat_minor": 2
}
